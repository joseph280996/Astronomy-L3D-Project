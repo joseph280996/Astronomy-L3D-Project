{
 "cells": [
  {
   "cell_type": "markdown",
   "metadata": {},
   "source": [
    "# Configuration"
   ]
  },
  {
   "cell_type": "code",
   "execution_count": 2,
   "metadata": {},
   "outputs": [],
   "source": [
    "device = 'cuda'"
   ]
  },
  {
   "cell_type": "code",
   "execution_count": 3,
   "metadata": {},
   "outputs": [],
   "source": [
    "import os"
   ]
  },
  {
   "cell_type": "code",
   "execution_count": 4,
   "metadata": {},
   "outputs": [
    {
     "name": "stdout",
     "output_type": "stream",
     "text": [
      "/Users/joseph280996/Code/School/L3D/Project/l3d_pn_dataset1000\n"
     ]
    }
   ],
   "source": [
    "DATA_DIR = os.environ.get('DATA_DIR', os.path.abspath('../l3d_pn_dataset1000'))\n",
    "print(DATA_DIR)"
   ]
  },
  {
   "cell_type": "markdown",
   "metadata": {},
   "source": [
    "# Importing modules"
   ]
  },
  {
   "cell_type": "code",
   "execution_count": 5,
   "metadata": {},
   "outputs": [],
   "source": [
    "import torchinfo\n",
    "import pytorchcv\n",
    "import torch\n",
    "import torchvision"
   ]
  },
  {
   "cell_type": "code",
   "execution_count": 6,
   "metadata": {},
   "outputs": [],
   "source": [
    "import numpy as np\n",
    "import pandas as pd "
   ]
  },
  {
   "cell_type": "code",
   "execution_count": 7,
   "metadata": {},
   "outputs": [],
   "source": [
    "%matplotlib inline\n",
    "import matplotlib.pyplot as plt\n",
    "import seaborn as sns\n",
    "\n",
    "plt.style.use('seaborn-v0_8') # pretty matplotlib plots\n",
    "sns.set('notebook', style='whitegrid', font_scale=1.25)"
   ]
  },
  {
   "cell_type": "code",
   "execution_count": 8,
   "metadata": {},
   "outputs": [],
   "source": [
    "import data_utils"
   ]
  },
  {
   "cell_type": "code",
   "execution_count": 9,
   "metadata": {},
   "outputs": [
    {
     "data": {
      "text/plain": [
       "<module 'data_utils' from '/Users/joseph280996/Code/School/L3D/Project/PL/data_utils.py'>"
      ]
     },
     "execution_count": 9,
     "metadata": {},
     "output_type": "execute_result"
    }
   ],
   "source": [
    "import importlib\n",
    "importlib.reload(data_utils)"
   ]
  },
  {
   "cell_type": "markdown",
   "metadata": {},
   "source": [
    "# Data Splitting"
   ]
  },
  {
   "cell_type": "code",
   "execution_count": 15,
   "metadata": {},
   "outputs": [],
   "source": [
    "import data_splitting"
   ]
  },
  {
   "cell_type": "code",
   "execution_count": 16,
   "metadata": {},
   "outputs": [],
   "source": [
    "data_splitting.lp_pl_preprocessing(DATA_DIR, '../l3d_pn_pl_dataset500LP500PL')"
   ]
  },
  {
   "cell_type": "code",
   "execution_count": 17,
   "metadata": {},
   "outputs": [
    {
     "name": "stdout",
     "output_type": "stream",
     "text": [
      "125\n",
      "125\n",
      "125\n",
      "125\n",
      "125\n",
      "125\n",
      "125\n",
      "125\n"
     ]
    }
   ],
   "source": [
    "print(len(lp_train_true_set))\n",
    "print(len(lp_train_false_set))\n",
    "print(len(lp_test_false_set))\n",
    "print(len(lp_test_false_set))\n",
    "print(len(pl_train_true_set))\n",
    "print(len(pl_train_false_set))\n",
    "print(len(pl_test_true_set))\n",
    "print(len(pl_test_false_set))"
   ]
  },
  {
   "cell_type": "code",
   "execution_count": 18,
   "metadata": {},
   "outputs": [
    {
     "name": "stdout",
     "output_type": "stream",
     "text": [
      "False\n",
      "False\n",
      "False\n",
      "False\n",
      "False\n"
     ]
    }
   ],
   "source": [
    "# Using numpy.intersect1d()\n",
    "has_common = len(np.intersect1d(lp_train_true_set, pl_train_true_set)) > 0\n",
    "print(has_common)\n",
    "has_common = len(np.intersect1d(lp_test_true_set, pl_test_true_set)) > 0\n",
    "print(has_common)\n",
    "has_common = len(np.intersect1d(lp_train_true_set, lp_train_false_set)) > 0\n",
    "print(has_common)\n",
    "has_common = len(np.intersect1d(pl_train_false_set, pl_train_true_set)) > 0\n",
    "print(has_common)\n",
    "has_common = len(np.intersect1d(pl_test_false_set, pl_test_true_set)) > 0\n",
    "print(has_common)"
   ]
  },
  {
   "cell_type": "code",
   "execution_count": 19,
   "metadata": {},
   "outputs": [],
   "source": [
    "import shutil\n",
    "def copy_files(file_list, destination):\n",
    "   for file in file_list:\n",
    "       try:\n",
    "           shutil.copy2(file, destination) # copy2 preserves metadata\n",
    "           print(f\"Copied {file}\")\n",
    "       except Exception as e:\n",
    "           print(f\"Error copying {file}: {e}\")"
   ]
  },
  {
   "cell_type": "code",
   "execution_count": 20,
   "metadata": {},
   "outputs": [],
   "source": []
  },
  {
   "cell_type": "markdown",
   "metadata": {},
   "source": [
    "# Load Dataset"
   ]
  },
  {
   "cell_type": "code",
   "execution_count": 21,
   "metadata": {},
   "outputs": [
    {
     "name": "stdout",
     "output_type": "stream",
     "text": [
      "/Users/joseph280996/Code/School/L3D/Project/l3d_pn_pl_dataset500LP500PL\n"
     ]
    }
   ],
   "source": [
    "DATA_DIR = os.environ.get('DATA_DIR', os.path.abspath('../l3d_pn_pl_dataset500LP500PL'))\n",
    "print(DATA_DIR)"
   ]
  },
  {
   "cell_type": "code",
   "execution_count": 22,
   "metadata": {},
   "outputs": [
    {
     "name": "stdout",
     "output_type": "stream",
     "text": [
      "splitname   0   1\n",
      " lp_train 100 100\n",
      " lp_valid  25  25\n",
      "  lp_test 125 125\n"
     ]
    }
   ],
   "source": [
    "lp_tr_loader, lp_va_loader, lp_te_loader  = data_utils.make_lp_data_loaders(\n",
    "    DATA_DIR,\n",
    "    batch_size=250,\n",
    "    frac_valid=0.2,\n",
    "    n_samples_per_class_trainandvalid=160)"
   ]
  },
  {
   "cell_type": "code",
   "execution_count": 25,
   "metadata": {},
   "outputs": [
    {
     "name": "stdout",
     "output_type": "stream",
     "text": [
      "splitname   0   1\n",
      " pl_train   5   5\n",
      " pl_valid   5   5\n",
      "  pl_test 125 125\n"
     ]
    }
   ],
   "source": [
    "pl_tr_loader, pl_va_loader, pl_te_loader = data_utils.make_pl_data_loaders(\n",
    "    DATA_DIR,\n",
    "    batch_size=250,\n",
    "    frac_valid=0.5,\n",
    "    n_samples_per_class_trainandvalid=10)"
   ]
  },
  {
   "cell_type": "code",
   "execution_count": null,
   "metadata": {},
   "outputs": [],
   "source": []
  }
 ],
 "metadata": {
  "kernelspec": {
   "display_name": "cs152_env",
   "language": "python",
   "name": "python3"
  },
  "language_info": {
   "codemirror_mode": {
    "name": "ipython",
    "version": 3
   },
   "file_extension": ".py",
   "mimetype": "text/x-python",
   "name": "python",
   "nbconvert_exporter": "python",
   "pygments_lexer": "ipython3",
   "version": "3.10.13"
  }
 },
 "nbformat": 4,
 "nbformat_minor": 2
}
