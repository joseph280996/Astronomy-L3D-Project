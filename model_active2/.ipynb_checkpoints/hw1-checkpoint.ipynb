{
 "cells": [
  {
   "cell_type": "markdown",
   "metadata": {},
   "source": [
    "# HW1: Transfer Learning\n",
    "\n",
    "Tufts CS 152 L3D, Fall 2024\n",
    "\n",
    "Official Instructions: <https://www.cs.tufts.edu/cs/152L3D/2024f/hw1.html>"
   ]
  },
  {
   "cell_type": "markdown",
   "metadata": {},
   "source": [
    "## Configuration\n",
    "\n",
    "This assignment might take a while.\n",
    "We recommend setting several variables here that prevent repeating long-running tasks."
   ]
  },
  {
   "cell_type": "code",
   "execution_count": 1,
   "metadata": {},
   "outputs": [],
   "source": [
    "device = 'cuda' # TODO change to GPU if you have one (e.g. on Colab)\n",
    "\n",
    "PROB1_res_file = 'prob1_results.pkl'\n",
    "PROB2_res_file = 'prob2_results.pkl'\n",
    "PROB1_EXPERIMENTS = True  # Flag will skip re-running experiments if set to False\n",
    "PROB1_PLOTS = True\n",
    "PROB2_EXPERIMENTS = True\n",
    "PROB2_PLOTS = True"
   ]
  },
  {
   "cell_type": "markdown",
   "metadata": {},
   "source": [
    "# Environment setup\n",
    "\n",
    "**Option 1: Colab**\n",
    "To use this notebook with Google Colab, you will need an account and Google Drive storage (free tier just fine)\n",
    "\n",
    "Please be sure you are *logged in* and have given requisite permission to access Drive to Google Colab.\n",
    "\n",
    "The lines below will:\n",
    "\n",
    "* Make folders called `CS152L3D_2024f/HW1/` in your google drive\n",
    "* Clone the HW1 starter code repository there\n",
    "* Note: Colab expects *this notebook* (or any notebook) will be in `Colab Notebooks/`.\n",
    "\n",
    "That will let us use the starter code in this notebook.\n",
    "\n",
    "**Option 2: Local**\n",
    "\n",
    "You can also try to use your local machine (but if you don't have a GPU, this may be slow and painful.\n",
    "If you choose this route, the lines below specific to Colab will just be skipped, and nothing will be done."
   ]
  },
  {
   "cell_type": "code",
   "execution_count": 2,
   "metadata": {},
   "outputs": [],
   "source": [
    "import sys\n",
    "import os"
   ]
  },
  {
   "cell_type": "code",
   "execution_count": 3,
   "metadata": {},
   "outputs": [],
   "source": [
    "try:\n",
    "    from google.colab import drive\n",
    "    drive.mount('/content/drive/')\n",
    "    COLAB = True\n",
    "except ImportError:\n",
    "    COLAB = False"
   ]
  },
  {
   "cell_type": "code",
   "execution_count": 4,
   "metadata": {},
   "outputs": [],
   "source": [
    "if COLAB:\n",
    "    if not os.path.exists(os.path.join('/content/drive/MyDrive/', 'CS152L3D_2024f')):\n",
    "        !cd /content/drive/MyDrive/ && mkdir CS152L3D_2024f\n"
   ]
  },
  {
   "cell_type": "code",
   "execution_count": 5,
   "metadata": {},
   "outputs": [],
   "source": [
    "# Move notebook working directory into the folder\n",
    "if COLAB:\n",
    "    %cd /content/drive/MyDrive/CS152L3D_2024f/\n",
    "\n",
    "    # Clone the repo\n",
    "    if not os.path.exists('cs152l3d-24f-assignments/hw1/'):\n",
    "      !git clone https://github.com/tufts-ml-courses/cs152l3d-24f-assignments\n",
    "\n",
    "    # cd into repo\n",
    "    %cd cs152l3d-24f-assignments/hw1/"
   ]
  },
  {
   "cell_type": "markdown",
   "metadata": {},
   "source": [
    "Check for success. We should be able to see files like\n",
    "\n",
    "* model.py\n",
    "* data_utils.py"
   ]
  },
  {
   "cell_type": "code",
   "execution_count": 6,
   "metadata": {},
   "outputs": [
    {
     "name": "stdout",
     "output_type": "stream",
     "text": [
      "README.md\n",
      "__pycache__\n",
      "best_model.pth\n",
      "birdsnap10\n",
      "birdsnap10_224x224only.zip\n",
      "data_utils.py\n",
      "hw1.ipynb\n",
      "hw1.zip\n",
      "hw1_template.tex\n",
      "l3d_24f_cpu.yml\n",
      "l3d_24f_cuda.yml\n",
      "models.py\n",
      "prob1_results.pkl\n",
      "resnet10-1253-88a5961b.pth\n",
      "resnet10_cub-2777-4525b593.pth\n",
      "resnet26-0849-4bfbc640.pth\n",
      "resnet26_cub-2316-599ab467.pth\n",
      "train.py\n"
     ]
    }
   ],
   "source": [
    "!ls"
   ]
  },
  {
   "cell_type": "code",
   "execution_count": null,
   "metadata": {},
   "outputs": [],
   "source": []
  },
  {
   "cell_type": "code",
   "execution_count": 7,
   "metadata": {},
   "outputs": [],
   "source": [
    "if COLAB:\n",
    "    try:\n",
    "        import torchinfo\n",
    "        import pytorchcv\n",
    "    except ImportError:\n",
    "        rstr = '''\n",
    "            torchinfo\n",
    "            pytorchcv\n",
    "            '''\n",
    "        with open('colab_requirements.txt', 'w') as f:\n",
    "            f.write(rstr)\n",
    "        !pip install -r colab_requirements.txt\n",
    "        import torchinfo\n",
    "        import pytorchcv\n"
   ]
  },
  {
   "cell_type": "code",
   "execution_count": 8,
   "metadata": {},
   "outputs": [
    {
     "name": "stdout",
     "output_type": "stream",
     "text": [
      "C:\\Users\\arman\\Documents\\CS152_L3D\\hw1\\birdsnap10\n"
     ]
    }
   ],
   "source": [
    "DATA_DIR = os.environ.get('DATA_DIR', os.path.abspath('./birdsnap10'))\n",
    "print(DATA_DIR)\n"
   ]
  },
  {
   "cell_type": "code",
   "execution_count": 9,
   "metadata": {},
   "outputs": [],
   "source": [
    "if not os.path.exists(DATA_DIR):\n",
    "    !unzip birdsnap10_224x224only.zip"
   ]
  },
  {
   "cell_type": "code",
   "execution_count": 10,
   "metadata": {},
   "outputs": [
    {
     "name": "stdout",
     "output_type": "stream",
     "text": [
      "American_Black_Duck\n",
      "Golden_Eagle\n",
      "Great_Horned_Owl\n",
      "Harlequin_Duck\n",
      "Osprey\n",
      "Peregrine_Falcon\n",
      "Prairie_Falcon\n",
      "Short_eared_Owl\n",
      "White_Ibis\n",
      "White_faced_Ibis\n"
     ]
    }
   ],
   "source": [
    "# Show contents of train set\n",
    "!ls $DATA_DIR/train/"
   ]
  },
  {
   "cell_type": "markdown",
   "metadata": {},
   "source": [
    "# Import Libraries"
   ]
  },
  {
   "cell_type": "code",
   "execution_count": 11,
   "metadata": {},
   "outputs": [],
   "source": [
    "# Import third-party library modules\n",
    "import json\n",
    "import pickle\n",
    "import itertools\n",
    "import tqdm"
   ]
  },
  {
   "cell_type": "code",
   "execution_count": 12,
   "metadata": {},
   "outputs": [],
   "source": [
    "import numpy as np\n",
    "import pandas as pd"
   ]
  },
  {
   "cell_type": "code",
   "execution_count": 13,
   "metadata": {},
   "outputs": [],
   "source": [
    "import torchinfo\n",
    "import pytorchcv\n",
    "import torch\n",
    "import torchvision"
   ]
  },
  {
   "cell_type": "code",
   "execution_count": 14,
   "metadata": {},
   "outputs": [],
   "source": [
    "%matplotlib inline\n",
    "import matplotlib.pyplot as plt\n",
    "import seaborn as sns\n",
    "\n",
    "plt.style.use('seaborn-v0_8') # pretty matplotlib plots\n",
    "sns.set('notebook', style='whitegrid', font_scale=1.25)"
   ]
  },
  {
   "cell_type": "markdown",
   "metadata": {},
   "source": [
    "# Import starter code modules from local files\n",
    "\n",
    "Use **autoreload** so that any changes to these local files will be automatically reloaded into this nb"
   ]
  },
  {
   "cell_type": "code",
   "execution_count": 15,
   "metadata": {},
   "outputs": [],
   "source": [
    "%load_ext autoreload\n",
    "%autoreload 2"
   ]
  },
  {
   "cell_type": "code",
   "execution_count": 70,
   "metadata": {},
   "outputs": [],
   "source": [
    "# Import utils from provided local starter code files\n",
    "import data_utils\n",
    "import models\n",
    "import train"
   ]
  },
  {
   "cell_type": "code",
   "execution_count": 57,
   "metadata": {},
   "outputs": [],
   "source": [
    "# Re-run this cell if you've made changes to your local file, but they aren't reflected in current nb kernel state\n",
    "import importlib\n",
    "importlib.reload(models);\n",
    "importlib.reload(train);\n"
   ]
  },
  {
   "cell_type": "markdown",
   "metadata": {},
   "source": [
    "# Show basic ResNet10 architecture\n",
    "\n",
    "Load ResNet10. All layers trainable by default."
   ]
  },
  {
   "cell_type": "code",
   "execution_count": 58,
   "metadata": {},
   "outputs": [
    {
     "name": "stdout",
     "output_type": "stream",
     "text": [
      "Setup complete. Trainable parameter count=5130 over 2 tensors in layers: output.\n"
     ]
    }
   ],
   "source": [
    "resnet10_in = models.PretrainedResNetForBirdSnap10(\n",
    "    src_dataset='ImageNet1k', arch='ResNet10', n_trainable_layers=1)"
   ]
  },
  {
   "cell_type": "markdown",
   "metadata": {},
   "source": [
    "Pretty-print layer-by-layer info"
   ]
  },
  {
   "cell_type": "code",
   "execution_count": 59,
   "metadata": {},
   "outputs": [
    {
     "data": {
      "text/plain": [
       "=====================================================================================================\n",
       "Layer (type (var_name))                                           Output Shape       Param #\n",
       "=====================================================================================================\n",
       "PretrainedResNetForBirdSnap10 (PretrainedResNetForBirdSnap10)     [1, 10]            --\n",
       "├─ResNet (model)                                                  [1, 10]            --\n",
       "│    └─Sequential (features)                                      [1, 512, 1, 1]     --\n",
       "│    │    └─ResInitBlock (init_block)                             [1, 64, 56, 56]    (9,536)\n",
       "│    │    └─Sequential (stage1)                                   [1, 64, 56, 56]    (73,984)\n",
       "│    │    └─Sequential (stage2)                                   [1, 128, 28, 28]   (230,144)\n",
       "│    │    └─Sequential (stage3)                                   [1, 256, 14, 14]   (919,040)\n",
       "│    │    └─Sequential (stage4)                                   [1, 512, 7, 7]     (3,673,088)\n",
       "│    │    └─AvgPool2d (final_pool)                                [1, 512, 1, 1]     --\n",
       "│    └─Linear (output)                                            [1, 10]            5,130\n",
       "=====================================================================================================\n",
       "Total params: 4,910,922\n",
       "Trainable params: 5,130\n",
       "Non-trainable params: 4,905,792\n",
       "Total mult-adds (M): 888.73\n",
       "=====================================================================================================\n",
       "Input size (MB): 0.60\n",
       "Forward/backward pass size (MB): 27.70\n",
       "Params size (MB): 19.64\n",
       "Estimated Total Size (MB): 47.94\n",
       "====================================================================================================="
      ]
     },
     "execution_count": 59,
     "metadata": {},
     "output_type": "execute_result"
    }
   ],
   "source": [
    "torchinfo.summary(resnet10_in, (1, 3, 224, 224),\n",
    "                  row_settings=['var_names'],\n",
    "                  col_names=[\"output_size\", \"num_params\"],\n",
    "                  col_width=18)"
   ]
  },
  {
   "cell_type": "markdown",
   "metadata": {},
   "source": [
    "# Load dataset"
   ]
  },
  {
   "cell_type": "code",
   "execution_count": 60,
   "metadata": {},
   "outputs": [
    {
     "data": {
      "text/plain": [
       "Dataset BirdsnapDataset\n",
       "    Number of datapoints: 640\n",
       "    Root location: C:\\Users\\arman\\Documents\\CS152_L3D\\hw1\\birdsnap10"
      ]
     },
     "execution_count": 60,
     "metadata": {},
     "output_type": "execute_result"
    }
   ],
   "source": [
    "# Verify data has been extracted correctly and is accessible to load in PyTorch\n",
    "data_utils.BirdsnapDataset(DATA_DIR)"
   ]
  },
  {
   "cell_type": "code",
   "execution_count": 61,
   "metadata": {},
   "outputs": [
    {
     "name": "stdout",
     "output_type": "stream",
     "text": [
      "splitname  0  1  2  3  4  5  6  7  8  9\n",
      "    train 40 40 40 40 40 40 40 40 40 40\n",
      "    valid 10 10 10 10 10 10 10 10 10 10\n",
      "     test 14 14 14 14 14 14 14 14 14 14\n"
     ]
    }
   ],
   "source": [
    "train_loader, val_loader, test_loader = data_utils.make_birdsnap_data_loaders(DATA_DIR)"
   ]
  },
  {
   "cell_type": "code",
   "execution_count": 62,
   "metadata": {},
   "outputs": [
    {
     "name": "stdout",
     "output_type": "stream",
     "text": [
      "100.0\n",
      "2\n"
     ]
    }
   ],
   "source": [
    "n_valid = float(len(val_loader.dataset))\n",
    "\n",
    "print(n_valid)\n",
    "\n",
    "print(len(val_loader))"
   ]
  },
  {
   "cell_type": "markdown",
   "metadata": {},
   "source": [
    "# Problem 1 Implementation Tasks\n",
    "\n",
    "In separate windows, you'll need to edit:\n",
    "\n",
    "* models.py, see task (i) here: <https://www.cs.tufts.edu/cs/152L3D/2024f/hw1.html#problem1>\n",
    "* train.py, see tasks (ii, iii, iv) here: <https://www.cs.tufts.edu/cs/152L3D/2024f/hw1.html#problem1>\n",
    "\n",
    "Any edits to these files should *automatically* be reflected here in your active nb session, since we used **autoreload** above"
   ]
  },
  {
   "cell_type": "markdown",
   "metadata": {},
   "source": [
    "Finally, as task (v), complete the implementation of `eval_acc` here to evaluate accuracy on test data"
   ]
  },
  {
   "cell_type": "code",
   "execution_count": 63,
   "metadata": {},
   "outputs": [],
   "source": [
    "def eval_acc(model, device, test_loader):\n",
    "    model.to(device)\n",
    "    model.eval()\n",
    "    correct = 0\n",
    "    with torch.no_grad():\n",
    "        for x, y in test_loader:\n",
    "            x = x.to(device)\n",
    "            y = y.to(device)\n",
    "            outputs = model(x)\n",
    "            \n",
    "            _, predicted_label = torch.max(outputs, 1)\n",
    "\n",
    "            correct += (predicted_label == y).sum().item()\n",
    "            \n",
    "\n",
    "    return correct / len(test_loader.dataset)"
   ]
  },
  {
   "cell_type": "code",
   "execution_count": 64,
   "metadata": {},
   "outputs": [],
   "source": [
    "# Dictioary to store model results\n",
    "task_one_results = {}"
   ]
  },
  {
   "cell_type": "markdown",
   "metadata": {},
   "source": [
    "# Problem 1 Experiments\n",
    "\n",
    "We'll now try to fit models for 2 archs (RN10, RN26) and 2 srcdatasets (ImageNet, CUB)\n",
    "\n",
    "For each one, we'll\n",
    "\n",
    "* keep n_trainable_layers = 1 (\"last layer only\" or \"linear probing\")\n",
    "* Try to find reasonable settings of learning rate (lr), l2 penalty strength (l2pen_mag), and random seed (controls initialization and data order)"
   ]
  },
  {
   "cell_type": "markdown",
   "metadata": {},
   "source": [
    "**TODO: Last-layer training of ResNet10 from ImageNet1k.**\n",
    "\n",
    "Need to find good hyperparameters (seed, lr, l2penalty magnitude, n_epochs)\n",
    "\n",
    "Don't peek at test, just use validation to tune."
   ]
  },
  {
   "cell_type": "code",
   "execution_count": 71,
   "metadata": {},
   "outputs": [
    {
     "name": "stdout",
     "output_type": "stream",
     "text": [
      "Setup complete. Trainable parameter count=5130 over 2 tensors in layers: output.\n"
     ]
    },
    {
     "name": "stderr",
     "output_type": "stream",
     "text": [
      "  0%| | 1/201 [00:00<01:35,  2.09it/s, tr_xent=nan, tr_err="
     ]
    },
    {
     "name": "stdout",
     "output_type": "stream",
     "text": [
      "torch.Size([10, 512])\n",
      "torch.Size([10, 512])\n"
     ]
    },
    {
     "name": "stderr",
     "output_type": "stream",
     "text": [
      "  0%| | 1/201 [00:01<01:35,  2.09it/s, tr_xent=nan, tr_err="
     ]
    },
    {
     "name": "stdout",
     "output_type": "stream",
     "text": [
      "torch.Size([10, 512])\n",
      "torch.Size([10, 512])\n"
     ]
    },
    {
     "name": "stderr",
     "output_type": "stream",
     "text": [
      "  0%| | 1/201 [00:01<01:35,  2.09it/s, tr_xent=nan, tr_err="
     ]
    },
    {
     "name": "stdout",
     "output_type": "stream",
     "text": [
      "torch.Size([10, 512])\n",
      "torch.Size([10, 512])\n"
     ]
    },
    {
     "name": "stderr",
     "output_type": "stream",
     "text": [
      "  0%| | 1/201 [00:01<01:35,  2.09it/s, tr_xent=nan, tr_err="
     ]
    },
    {
     "name": "stdout",
     "output_type": "stream",
     "text": [
      "torch.Size([10, 512])\n"
     ]
    },
    {
     "name": "stderr",
     "output_type": "stream",
     "text": [
      "  1%| | 2/201 [00:02<03:24,  1.03s/it, tr_xent=2.14, tr_err"
     ]
    },
    {
     "name": "stdout",
     "output_type": "stream",
     "text": [
      "torch.Size([10, 512])\n"
     ]
    },
    {
     "name": "stderr",
     "output_type": "stream",
     "text": [
      "\n"
     ]
    },
    {
     "ename": "KeyboardInterrupt",
     "evalue": "",
     "output_type": "error",
     "traceback": [
      "\u001b[1;31m------------------------------------------------------------\u001b[0m",
      "\u001b[1;31mKeyboardInterrupt\u001b[0m          Traceback (most recent call last)",
      "Cell \u001b[1;32mIn[71], line 8\u001b[0m\n\u001b[0;32m      5\u001b[0m l2pen_mag\u001b[38;5;241m=\u001b[39m\u001b[38;5;241m0.1\u001b[39m\n\u001b[0;32m      6\u001b[0m resnet10_in \u001b[38;5;241m=\u001b[39m models\u001b[38;5;241m.\u001b[39mPretrainedResNetForBirdSnap10(\n\u001b[0;32m      7\u001b[0m     src_dataset\u001b[38;5;241m=\u001b[39m\u001b[38;5;124m'\u001b[39m\u001b[38;5;124mImageNet1k\u001b[39m\u001b[38;5;124m'\u001b[39m, arch\u001b[38;5;241m=\u001b[39m\u001b[38;5;124m'\u001b[39m\u001b[38;5;124mResNet10\u001b[39m\u001b[38;5;124m'\u001b[39m, n_trainable_layers\u001b[38;5;241m=\u001b[39m\u001b[38;5;241m1\u001b[39m, seed\u001b[38;5;241m=\u001b[39mseed)\n\u001b[1;32m----> 8\u001b[0m best_model, best_info \u001b[38;5;241m=\u001b[39m \u001b[43mtrain\u001b[49m\u001b[38;5;241;43m.\u001b[39;49m\u001b[43mtrain_model\u001b[49m\u001b[43m(\u001b[49m\u001b[43mresnet10_in\u001b[49m\u001b[43m,\u001b[49m\u001b[43m \u001b[49m\u001b[43mdevice\u001b[49m\u001b[43m,\u001b[49m\u001b[43m \u001b[49m\u001b[43mtrain_loader\u001b[49m\u001b[43m,\u001b[49m\u001b[43m \u001b[49m\u001b[43mval_loader\u001b[49m\u001b[43m,\u001b[49m\n\u001b[0;32m      9\u001b[0m \u001b[43m    \u001b[49m\u001b[43mn_epochs\u001b[49m\u001b[38;5;241;43m=\u001b[39;49m\u001b[43mn_epochs\u001b[49m\u001b[43m,\u001b[49m\n\u001b[0;32m     10\u001b[0m \u001b[43m    \u001b[49m\u001b[43mlr\u001b[49m\u001b[38;5;241;43m=\u001b[39;49m\u001b[43mlr\u001b[49m\u001b[43m,\u001b[49m\n\u001b[0;32m     11\u001b[0m \u001b[43m    \u001b[49m\u001b[43ml2pen_mag\u001b[49m\u001b[38;5;241;43m=\u001b[39;49m\u001b[43ml2pen_mag\u001b[49m\u001b[43m,\u001b[49m\n\u001b[0;32m     12\u001b[0m \u001b[43m    \u001b[49m\u001b[43mdata_order_seed\u001b[49m\u001b[38;5;241;43m=\u001b[39;49m\u001b[43mseed\u001b[49m\u001b[43m,\u001b[49m\n\u001b[0;32m     13\u001b[0m \u001b[43m    \u001b[49m\u001b[43m)\u001b[49m\n\u001b[0;32m     14\u001b[0m task_one_results[(\u001b[38;5;124m'\u001b[39m\u001b[38;5;124mResNet10\u001b[39m\u001b[38;5;124m'\u001b[39m, \u001b[38;5;124m'\u001b[39m\u001b[38;5;124mImageNet1k\u001b[39m\u001b[38;5;124m'\u001b[39m)] \u001b[38;5;241m=\u001b[39m {\n\u001b[0;32m     15\u001b[0m     \u001b[38;5;124m'\u001b[39m\u001b[38;5;124mepochs\u001b[39m\u001b[38;5;124m'\u001b[39m: best_info[\u001b[38;5;124m'\u001b[39m\u001b[38;5;124mepochs\u001b[39m\u001b[38;5;124m'\u001b[39m],          \n\u001b[0;32m     16\u001b[0m     \u001b[38;5;124m'\u001b[39m\u001b[38;5;124mtr\u001b[39m\u001b[38;5;124m'\u001b[39m: best_info[\u001b[38;5;124m'\u001b[39m\u001b[38;5;124mtr\u001b[39m\u001b[38;5;124m'\u001b[39m],                  \n\u001b[1;32m   (...)\u001b[0m\n\u001b[0;32m     24\u001b[0m     \u001b[38;5;124m'\u001b[39m\u001b[38;5;124mseed\u001b[39m\u001b[38;5;124m'\u001b[39m: seed,\n\u001b[0;32m     25\u001b[0m }\n",
      "File \u001b[1;32m~\\Documents\\CS152_L3D\\hw1\\train.py:60\u001b[0m, in \u001b[0;36mtrain_model\u001b[1;34m(model, device, tr_loader, va_loader, n_epochs, lr, l2pen_mag, data_order_seed, do_early_stopping, n_epochs_without_va_improve_before_early_stop, xent_loss_func)\u001b[0m\n\u001b[0;32m     58\u001b[0m tr_err \u001b[38;5;241m=\u001b[39m \u001b[38;5;241m0\u001b[39m     \u001b[38;5;66;03m# count mistakes on train set\u001b[39;00m\n\u001b[0;32m     59\u001b[0m pbar_info[\u001b[38;5;124m'\u001b[39m\u001b[38;5;124mbatch_done\u001b[39m\u001b[38;5;124m'\u001b[39m] \u001b[38;5;241m=\u001b[39m \u001b[38;5;241m0\u001b[39m\n\u001b[1;32m---> 60\u001b[0m \u001b[38;5;28;01mfor\u001b[39;00m bb, (x, y_B) \u001b[38;5;129;01min\u001b[39;00m \u001b[38;5;28menumerate\u001b[39m(tr_loader):\n\u001b[0;32m     61\u001b[0m     optimizer\u001b[38;5;241m.\u001b[39mzero_grad()\n\u001b[0;32m     63\u001b[0m     logits_BC \u001b[38;5;241m=\u001b[39m model(x\u001b[38;5;241m.\u001b[39mto(device))\n",
      "File \u001b[1;32m~\\.conda\\envs\\cs135_env\\lib\\site-packages\\torch\\utils\\data\\dataloader.py:631\u001b[0m, in \u001b[0;36m_BaseDataLoaderIter.__next__\u001b[1;34m(self)\u001b[0m\n\u001b[0;32m    628\u001b[0m \u001b[38;5;28;01mif\u001b[39;00m \u001b[38;5;28mself\u001b[39m\u001b[38;5;241m.\u001b[39m_sampler_iter \u001b[38;5;129;01mis\u001b[39;00m \u001b[38;5;28;01mNone\u001b[39;00m:\n\u001b[0;32m    629\u001b[0m     \u001b[38;5;66;03m# TODO(https://github.com/pytorch/pytorch/issues/76750)\u001b[39;00m\n\u001b[0;32m    630\u001b[0m     \u001b[38;5;28mself\u001b[39m\u001b[38;5;241m.\u001b[39m_reset()  \u001b[38;5;66;03m# type: ignore[call-arg]\u001b[39;00m\n\u001b[1;32m--> 631\u001b[0m data \u001b[38;5;241m=\u001b[39m \u001b[38;5;28;43mself\u001b[39;49m\u001b[38;5;241;43m.\u001b[39;49m\u001b[43m_next_data\u001b[49m\u001b[43m(\u001b[49m\u001b[43m)\u001b[49m\n\u001b[0;32m    632\u001b[0m \u001b[38;5;28mself\u001b[39m\u001b[38;5;241m.\u001b[39m_num_yielded \u001b[38;5;241m+\u001b[39m\u001b[38;5;241m=\u001b[39m \u001b[38;5;241m1\u001b[39m\n\u001b[0;32m    633\u001b[0m \u001b[38;5;28;01mif\u001b[39;00m \u001b[38;5;28mself\u001b[39m\u001b[38;5;241m.\u001b[39m_dataset_kind \u001b[38;5;241m==\u001b[39m _DatasetKind\u001b[38;5;241m.\u001b[39mIterable \u001b[38;5;129;01mand\u001b[39;00m \\\n\u001b[0;32m    634\u001b[0m         \u001b[38;5;28mself\u001b[39m\u001b[38;5;241m.\u001b[39m_IterableDataset_len_called \u001b[38;5;129;01mis\u001b[39;00m \u001b[38;5;129;01mnot\u001b[39;00m \u001b[38;5;28;01mNone\u001b[39;00m \u001b[38;5;129;01mand\u001b[39;00m \\\n\u001b[0;32m    635\u001b[0m         \u001b[38;5;28mself\u001b[39m\u001b[38;5;241m.\u001b[39m_num_yielded \u001b[38;5;241m>\u001b[39m \u001b[38;5;28mself\u001b[39m\u001b[38;5;241m.\u001b[39m_IterableDataset_len_called:\n",
      "File \u001b[1;32m~\\.conda\\envs\\cs135_env\\lib\\site-packages\\torch\\utils\\data\\dataloader.py:675\u001b[0m, in \u001b[0;36m_SingleProcessDataLoaderIter._next_data\u001b[1;34m(self)\u001b[0m\n\u001b[0;32m    673\u001b[0m \u001b[38;5;28;01mdef\u001b[39;00m \u001b[38;5;21m_next_data\u001b[39m(\u001b[38;5;28mself\u001b[39m):\n\u001b[0;32m    674\u001b[0m     index \u001b[38;5;241m=\u001b[39m \u001b[38;5;28mself\u001b[39m\u001b[38;5;241m.\u001b[39m_next_index()  \u001b[38;5;66;03m# may raise StopIteration\u001b[39;00m\n\u001b[1;32m--> 675\u001b[0m     data \u001b[38;5;241m=\u001b[39m \u001b[38;5;28;43mself\u001b[39;49m\u001b[38;5;241;43m.\u001b[39;49m\u001b[43m_dataset_fetcher\u001b[49m\u001b[38;5;241;43m.\u001b[39;49m\u001b[43mfetch\u001b[49m\u001b[43m(\u001b[49m\u001b[43mindex\u001b[49m\u001b[43m)\u001b[49m  \u001b[38;5;66;03m# may raise StopIteration\u001b[39;00m\n\u001b[0;32m    676\u001b[0m     \u001b[38;5;28;01mif\u001b[39;00m \u001b[38;5;28mself\u001b[39m\u001b[38;5;241m.\u001b[39m_pin_memory:\n\u001b[0;32m    677\u001b[0m         data \u001b[38;5;241m=\u001b[39m _utils\u001b[38;5;241m.\u001b[39mpin_memory\u001b[38;5;241m.\u001b[39mpin_memory(data, \u001b[38;5;28mself\u001b[39m\u001b[38;5;241m.\u001b[39m_pin_memory_device)\n",
      "File \u001b[1;32m~\\.conda\\envs\\cs135_env\\lib\\site-packages\\torch\\utils\\data\\_utils\\fetch.py:49\u001b[0m, in \u001b[0;36m_MapDatasetFetcher.fetch\u001b[1;34m(self, possibly_batched_index)\u001b[0m\n\u001b[0;32m     47\u001b[0m \u001b[38;5;28;01mif\u001b[39;00m \u001b[38;5;28mself\u001b[39m\u001b[38;5;241m.\u001b[39mauto_collation:\n\u001b[0;32m     48\u001b[0m     \u001b[38;5;28;01mif\u001b[39;00m \u001b[38;5;28mhasattr\u001b[39m(\u001b[38;5;28mself\u001b[39m\u001b[38;5;241m.\u001b[39mdataset, \u001b[38;5;124m\"\u001b[39m\u001b[38;5;124m__getitems__\u001b[39m\u001b[38;5;124m\"\u001b[39m) \u001b[38;5;129;01mand\u001b[39;00m \u001b[38;5;28mself\u001b[39m\u001b[38;5;241m.\u001b[39mdataset\u001b[38;5;241m.\u001b[39m__getitems__:\n\u001b[1;32m---> 49\u001b[0m         data \u001b[38;5;241m=\u001b[39m \u001b[38;5;28;43mself\u001b[39;49m\u001b[38;5;241;43m.\u001b[39;49m\u001b[43mdataset\u001b[49m\u001b[38;5;241;43m.\u001b[39;49m\u001b[43m__getitems__\u001b[49m\u001b[43m(\u001b[49m\u001b[43mpossibly_batched_index\u001b[49m\u001b[43m)\u001b[49m\n\u001b[0;32m     50\u001b[0m     \u001b[38;5;28;01melse\u001b[39;00m:\n\u001b[0;32m     51\u001b[0m         data \u001b[38;5;241m=\u001b[39m [\u001b[38;5;28mself\u001b[39m\u001b[38;5;241m.\u001b[39mdataset[idx] \u001b[38;5;28;01mfor\u001b[39;00m idx \u001b[38;5;129;01min\u001b[39;00m possibly_batched_index]\n",
      "File \u001b[1;32m~\\.conda\\envs\\cs135_env\\lib\\site-packages\\torch\\utils\\data\\dataset.py:419\u001b[0m, in \u001b[0;36mSubset.__getitems__\u001b[1;34m(self, indices)\u001b[0m\n\u001b[0;32m    417\u001b[0m     \u001b[38;5;28;01mreturn\u001b[39;00m \u001b[38;5;28mself\u001b[39m\u001b[38;5;241m.\u001b[39mdataset\u001b[38;5;241m.\u001b[39m__getitems__([\u001b[38;5;28mself\u001b[39m\u001b[38;5;241m.\u001b[39mindices[idx] \u001b[38;5;28;01mfor\u001b[39;00m idx \u001b[38;5;129;01min\u001b[39;00m indices])  \u001b[38;5;66;03m# type: ignore[attr-defined]\u001b[39;00m\n\u001b[0;32m    418\u001b[0m \u001b[38;5;28;01melse\u001b[39;00m:\n\u001b[1;32m--> 419\u001b[0m     \u001b[38;5;28;01mreturn\u001b[39;00m [\u001b[38;5;28mself\u001b[39m\u001b[38;5;241m.\u001b[39mdataset[\u001b[38;5;28mself\u001b[39m\u001b[38;5;241m.\u001b[39mindices[idx]] \u001b[38;5;28;01mfor\u001b[39;00m idx \u001b[38;5;129;01min\u001b[39;00m indices]\n",
      "File \u001b[1;32m~\\.conda\\envs\\cs135_env\\lib\\site-packages\\torch\\utils\\data\\dataset.py:419\u001b[0m, in \u001b[0;36m<listcomp>\u001b[1;34m(.0)\u001b[0m\n\u001b[0;32m    417\u001b[0m     \u001b[38;5;28;01mreturn\u001b[39;00m \u001b[38;5;28mself\u001b[39m\u001b[38;5;241m.\u001b[39mdataset\u001b[38;5;241m.\u001b[39m__getitems__([\u001b[38;5;28mself\u001b[39m\u001b[38;5;241m.\u001b[39mindices[idx] \u001b[38;5;28;01mfor\u001b[39;00m idx \u001b[38;5;129;01min\u001b[39;00m indices])  \u001b[38;5;66;03m# type: ignore[attr-defined]\u001b[39;00m\n\u001b[0;32m    418\u001b[0m \u001b[38;5;28;01melse\u001b[39;00m:\n\u001b[1;32m--> 419\u001b[0m     \u001b[38;5;28;01mreturn\u001b[39;00m [\u001b[38;5;28;43mself\u001b[39;49m\u001b[38;5;241;43m.\u001b[39;49m\u001b[43mdataset\u001b[49m\u001b[43m[\u001b[49m\u001b[38;5;28;43mself\u001b[39;49m\u001b[38;5;241;43m.\u001b[39;49m\u001b[43mindices\u001b[49m\u001b[43m[\u001b[49m\u001b[43midx\u001b[49m\u001b[43m]\u001b[49m\u001b[43m]\u001b[49m \u001b[38;5;28;01mfor\u001b[39;00m idx \u001b[38;5;129;01min\u001b[39;00m indices]\n",
      "File \u001b[1;32m~\\.conda\\envs\\cs135_env\\lib\\site-packages\\torchvision\\datasets\\folder.py:247\u001b[0m, in \u001b[0;36mDatasetFolder.__getitem__\u001b[1;34m(self, index)\u001b[0m\n\u001b[0;32m    245\u001b[0m sample \u001b[38;5;241m=\u001b[39m \u001b[38;5;28mself\u001b[39m\u001b[38;5;241m.\u001b[39mloader(path)\n\u001b[0;32m    246\u001b[0m \u001b[38;5;28;01mif\u001b[39;00m \u001b[38;5;28mself\u001b[39m\u001b[38;5;241m.\u001b[39mtransform \u001b[38;5;129;01mis\u001b[39;00m \u001b[38;5;129;01mnot\u001b[39;00m \u001b[38;5;28;01mNone\u001b[39;00m:\n\u001b[1;32m--> 247\u001b[0m     sample \u001b[38;5;241m=\u001b[39m \u001b[38;5;28;43mself\u001b[39;49m\u001b[38;5;241;43m.\u001b[39;49m\u001b[43mtransform\u001b[49m\u001b[43m(\u001b[49m\u001b[43msample\u001b[49m\u001b[43m)\u001b[49m\n\u001b[0;32m    248\u001b[0m \u001b[38;5;28;01mif\u001b[39;00m \u001b[38;5;28mself\u001b[39m\u001b[38;5;241m.\u001b[39mtarget_transform \u001b[38;5;129;01mis\u001b[39;00m \u001b[38;5;129;01mnot\u001b[39;00m \u001b[38;5;28;01mNone\u001b[39;00m:\n\u001b[0;32m    249\u001b[0m     target \u001b[38;5;241m=\u001b[39m \u001b[38;5;28mself\u001b[39m\u001b[38;5;241m.\u001b[39mtarget_transform(target)\n",
      "File \u001b[1;32m~\\.conda\\envs\\cs135_env\\lib\\site-packages\\torchvision\\transforms\\transforms.py:95\u001b[0m, in \u001b[0;36mCompose.__call__\u001b[1;34m(self, img)\u001b[0m\n\u001b[0;32m     93\u001b[0m \u001b[38;5;28;01mdef\u001b[39;00m \u001b[38;5;21m__call__\u001b[39m(\u001b[38;5;28mself\u001b[39m, img):\n\u001b[0;32m     94\u001b[0m     \u001b[38;5;28;01mfor\u001b[39;00m t \u001b[38;5;129;01min\u001b[39;00m \u001b[38;5;28mself\u001b[39m\u001b[38;5;241m.\u001b[39mtransforms:\n\u001b[1;32m---> 95\u001b[0m         img \u001b[38;5;241m=\u001b[39m \u001b[43mt\u001b[49m\u001b[43m(\u001b[49m\u001b[43mimg\u001b[49m\u001b[43m)\u001b[49m\n\u001b[0;32m     96\u001b[0m     \u001b[38;5;28;01mreturn\u001b[39;00m img\n",
      "File \u001b[1;32m~\\.conda\\envs\\cs135_env\\lib\\site-packages\\torch\\nn\\modules\\module.py:1532\u001b[0m, in \u001b[0;36mModule._wrapped_call_impl\u001b[1;34m(self, *args, **kwargs)\u001b[0m\n\u001b[0;32m   1530\u001b[0m     \u001b[38;5;28;01mreturn\u001b[39;00m \u001b[38;5;28mself\u001b[39m\u001b[38;5;241m.\u001b[39m_compiled_call_impl(\u001b[38;5;241m*\u001b[39margs, \u001b[38;5;241m*\u001b[39m\u001b[38;5;241m*\u001b[39mkwargs)  \u001b[38;5;66;03m# type: ignore[misc]\u001b[39;00m\n\u001b[0;32m   1531\u001b[0m \u001b[38;5;28;01melse\u001b[39;00m:\n\u001b[1;32m-> 1532\u001b[0m     \u001b[38;5;28;01mreturn\u001b[39;00m \u001b[38;5;28mself\u001b[39m\u001b[38;5;241m.\u001b[39m_call_impl(\u001b[38;5;241m*\u001b[39margs, \u001b[38;5;241m*\u001b[39m\u001b[38;5;241m*\u001b[39mkwargs)\n",
      "File \u001b[1;32m~\\.conda\\envs\\cs135_env\\lib\\site-packages\\torch\\nn\\modules\\module.py:1541\u001b[0m, in \u001b[0;36mModule._call_impl\u001b[1;34m(self, *args, **kwargs)\u001b[0m\n\u001b[0;32m   1536\u001b[0m \u001b[38;5;66;03m# If we don't have any hooks, we want to skip the rest of the logic in\u001b[39;00m\n\u001b[0;32m   1537\u001b[0m \u001b[38;5;66;03m# this function, and just call forward.\u001b[39;00m\n\u001b[0;32m   1538\u001b[0m \u001b[38;5;28;01mif\u001b[39;00m \u001b[38;5;129;01mnot\u001b[39;00m (\u001b[38;5;28mself\u001b[39m\u001b[38;5;241m.\u001b[39m_backward_hooks \u001b[38;5;129;01mor\u001b[39;00m \u001b[38;5;28mself\u001b[39m\u001b[38;5;241m.\u001b[39m_backward_pre_hooks \u001b[38;5;129;01mor\u001b[39;00m \u001b[38;5;28mself\u001b[39m\u001b[38;5;241m.\u001b[39m_forward_hooks \u001b[38;5;129;01mor\u001b[39;00m \u001b[38;5;28mself\u001b[39m\u001b[38;5;241m.\u001b[39m_forward_pre_hooks\n\u001b[0;32m   1539\u001b[0m         \u001b[38;5;129;01mor\u001b[39;00m _global_backward_pre_hooks \u001b[38;5;129;01mor\u001b[39;00m _global_backward_hooks\n\u001b[0;32m   1540\u001b[0m         \u001b[38;5;129;01mor\u001b[39;00m _global_forward_hooks \u001b[38;5;129;01mor\u001b[39;00m _global_forward_pre_hooks):\n\u001b[1;32m-> 1541\u001b[0m     \u001b[38;5;28;01mreturn\u001b[39;00m forward_call(\u001b[38;5;241m*\u001b[39margs, \u001b[38;5;241m*\u001b[39m\u001b[38;5;241m*\u001b[39mkwargs)\n\u001b[0;32m   1543\u001b[0m \u001b[38;5;28;01mtry\u001b[39;00m:\n\u001b[0;32m   1544\u001b[0m     result \u001b[38;5;241m=\u001b[39m \u001b[38;5;28;01mNone\u001b[39;00m\n",
      "File \u001b[1;32m~\\.conda\\envs\\cs135_env\\lib\\site-packages\\torchvision\\transforms\\transforms.py:277\u001b[0m, in \u001b[0;36mNormalize.forward\u001b[1;34m(self, tensor)\u001b[0m\n\u001b[0;32m    269\u001b[0m \u001b[38;5;28;01mdef\u001b[39;00m \u001b[38;5;21mforward\u001b[39m(\u001b[38;5;28mself\u001b[39m, tensor: Tensor) \u001b[38;5;241m-\u001b[39m\u001b[38;5;241m>\u001b[39m Tensor:\n\u001b[0;32m    270\u001b[0m \u001b[38;5;250m    \u001b[39m\u001b[38;5;124;03m\"\"\"\u001b[39;00m\n\u001b[0;32m    271\u001b[0m \u001b[38;5;124;03m    Args:\u001b[39;00m\n\u001b[0;32m    272\u001b[0m \u001b[38;5;124;03m        tensor (Tensor): Tensor image to be normalized.\u001b[39;00m\n\u001b[1;32m   (...)\u001b[0m\n\u001b[0;32m    275\u001b[0m \u001b[38;5;124;03m        Tensor: Normalized Tensor image.\u001b[39;00m\n\u001b[0;32m    276\u001b[0m \u001b[38;5;124;03m    \"\"\"\u001b[39;00m\n\u001b[1;32m--> 277\u001b[0m     \u001b[38;5;28;01mreturn\u001b[39;00m \u001b[43mF\u001b[49m\u001b[38;5;241;43m.\u001b[39;49m\u001b[43mnormalize\u001b[49m\u001b[43m(\u001b[49m\u001b[43mtensor\u001b[49m\u001b[43m,\u001b[49m\u001b[43m \u001b[49m\u001b[38;5;28;43mself\u001b[39;49m\u001b[38;5;241;43m.\u001b[39;49m\u001b[43mmean\u001b[49m\u001b[43m,\u001b[49m\u001b[43m \u001b[49m\u001b[38;5;28;43mself\u001b[39;49m\u001b[38;5;241;43m.\u001b[39;49m\u001b[43mstd\u001b[49m\u001b[43m,\u001b[49m\u001b[43m \u001b[49m\u001b[38;5;28;43mself\u001b[39;49m\u001b[38;5;241;43m.\u001b[39;49m\u001b[43minplace\u001b[49m\u001b[43m)\u001b[49m\n",
      "File \u001b[1;32m~\\.conda\\envs\\cs135_env\\lib\\site-packages\\torchvision\\transforms\\functional.py:350\u001b[0m, in \u001b[0;36mnormalize\u001b[1;34m(tensor, mean, std, inplace)\u001b[0m\n\u001b[0;32m    347\u001b[0m \u001b[38;5;28;01mif\u001b[39;00m \u001b[38;5;129;01mnot\u001b[39;00m \u001b[38;5;28misinstance\u001b[39m(tensor, torch\u001b[38;5;241m.\u001b[39mTensor):\n\u001b[0;32m    348\u001b[0m     \u001b[38;5;28;01mraise\u001b[39;00m \u001b[38;5;167;01mTypeError\u001b[39;00m(\u001b[38;5;124mf\u001b[39m\u001b[38;5;124m\"\u001b[39m\u001b[38;5;124mimg should be Tensor Image. Got \u001b[39m\u001b[38;5;132;01m{\u001b[39;00m\u001b[38;5;28mtype\u001b[39m(tensor)\u001b[38;5;132;01m}\u001b[39;00m\u001b[38;5;124m\"\u001b[39m)\n\u001b[1;32m--> 350\u001b[0m \u001b[38;5;28;01mreturn\u001b[39;00m \u001b[43mF_t\u001b[49m\u001b[38;5;241;43m.\u001b[39;49m\u001b[43mnormalize\u001b[49m\u001b[43m(\u001b[49m\u001b[43mtensor\u001b[49m\u001b[43m,\u001b[49m\u001b[43m \u001b[49m\u001b[43mmean\u001b[49m\u001b[38;5;241;43m=\u001b[39;49m\u001b[43mmean\u001b[49m\u001b[43m,\u001b[49m\u001b[43m \u001b[49m\u001b[43mstd\u001b[49m\u001b[38;5;241;43m=\u001b[39;49m\u001b[43mstd\u001b[49m\u001b[43m,\u001b[49m\u001b[43m \u001b[49m\u001b[43minplace\u001b[49m\u001b[38;5;241;43m=\u001b[39;49m\u001b[43minplace\u001b[49m\u001b[43m)\u001b[49m\n",
      "File \u001b[1;32m~\\.conda\\envs\\cs135_env\\lib\\site-packages\\torchvision\\transforms\\_functional_tensor.py:915\u001b[0m, in \u001b[0;36mnormalize\u001b[1;34m(tensor, mean, std, inplace)\u001b[0m\n\u001b[0;32m    910\u001b[0m     \u001b[38;5;28;01mraise\u001b[39;00m \u001b[38;5;167;01mValueError\u001b[39;00m(\n\u001b[0;32m    911\u001b[0m         \u001b[38;5;124mf\u001b[39m\u001b[38;5;124m\"\u001b[39m\u001b[38;5;124mExpected tensor to be a tensor image of size (..., C, H, W). Got tensor.size() = \u001b[39m\u001b[38;5;132;01m{\u001b[39;00mtensor\u001b[38;5;241m.\u001b[39msize()\u001b[38;5;132;01m}\u001b[39;00m\u001b[38;5;124m\"\u001b[39m\n\u001b[0;32m    912\u001b[0m     )\n\u001b[0;32m    914\u001b[0m \u001b[38;5;28;01mif\u001b[39;00m \u001b[38;5;129;01mnot\u001b[39;00m inplace:\n\u001b[1;32m--> 915\u001b[0m     tensor \u001b[38;5;241m=\u001b[39m \u001b[43mtensor\u001b[49m\u001b[38;5;241;43m.\u001b[39;49m\u001b[43mclone\u001b[49m\u001b[43m(\u001b[49m\u001b[43m)\u001b[49m\n\u001b[0;32m    917\u001b[0m dtype \u001b[38;5;241m=\u001b[39m tensor\u001b[38;5;241m.\u001b[39mdtype\n\u001b[0;32m    918\u001b[0m mean \u001b[38;5;241m=\u001b[39m torch\u001b[38;5;241m.\u001b[39mas_tensor(mean, dtype\u001b[38;5;241m=\u001b[39mdtype, device\u001b[38;5;241m=\u001b[39mtensor\u001b[38;5;241m.\u001b[39mdevice)\n",
      "\u001b[1;31mKeyboardInterrupt\u001b[0m: "
     ]
    }
   ],
   "source": [
    "if PROB1_EXPERIMENTS:\n",
    "    seed = 15\n",
    "    n_epochs=200\n",
    "    lr=0.001\n",
    "    l2pen_mag=0.1\n",
    "    resnet10_in = models.PretrainedResNetForBirdSnap10(\n",
    "        src_dataset='ImageNet1k', arch='ResNet10', n_trainable_layers=1, seed=seed)\n",
    "    best_model, best_info = train.train_model(resnet10_in, device, train_loader, val_loader,\n",
    "        n_epochs=n_epochs,\n",
    "        lr=lr,\n",
    "        l2pen_mag=l2pen_mag,\n",
    "        data_order_seed=seed,\n",
    "        )\n",
    "    task_one_results[('ResNet10', 'ImageNet1k')] = {\n",
    "        'epochs': best_info['epochs'],          \n",
    "        'tr': best_info['tr'],                  \n",
    "        'va': best_info['va'],                  \n",
    "        'best_tr_err': best_info['best_tr_err'],\n",
    "        'best_va_err': best_info['best_va_err'],\n",
    "        'best_va_loss': best_info['best_va_loss'],\n",
    "        'best_epoch': best_info['best_epoch'],\n",
    "        'lr': lr,\n",
    "        'l2pen_mag': l2pen_mag,\n",
    "        'seed': seed,\n",
    "    }\n",
    "                                                         \n",
    "\n"
   ]
  },
  {
   "cell_type": "markdown",
   "metadata": {},
   "source": [
    "# Diagnostic plot: Error/loss vs epoch\n",
    "\n",
    "The plot below is just a demo of what you can plot. Values won't represent correct operation of model training until you run the code implementation tasks, and start training for longer (adjust n_epochs > 15).\n",
    "\n",
    "FYI: good practices already implemented info dict returned by train_model\n",
    "\n",
    "* Report perf on val on given initial model (epoch=0), before making any updates\n",
    "* Train perf metrics only kick in for epoch 1 and later (when we are doing updates)"
   ]
  },
  {
   "cell_type": "code",
   "execution_count": 26,
   "metadata": {},
   "outputs": [
    {
     "data": {
      "image/png": "[encoded data removed]",
      "text/plain": [
       "<Figure size 800x550 with 1 Axes>"
      ]
     },
     "metadata": {},
     "output_type": "display_data"
    }
   ],
   "source": [
    "plt.plot(best_info['epochs'], best_info['tr']['loss'], '--', color='b', label='tr loss')\n",
    "plt.plot(best_info['epochs'], best_info['tr']['err'], '-', color='b', label='tr err')\n",
    "\n",
    "plt.plot(best_info['epochs'], best_info['va']['xent'], '--', color='r', label='va xent')\n",
    "plt.plot(best_info['epochs'], best_info['va']['err'], '-', color='r', label='va err')\n",
    "plt.legend();"
   ]
  },
  {
   "cell_type": "markdown",
   "metadata": {},
   "source": [
    "**Pro Tip:** Consider storing your \"best\" runs to disk, using code like below"
   ]
  },
  {
   "cell_type": "code",
   "execution_count": 27,
   "metadata": {
    "scrolled": true
   },
   "outputs": [],
   "source": [
    "\n",
    "# if os.path.exists(PROB1_res_file) and os.path.getsize(PROB1_res_file) > 0:\n",
    "#     with open(PROB1_res_file, 'rb') as f:\n",
    "#         results = pickle.load(f)\n",
    "# else:\n",
    "#     results = dict()\n",
    "\n",
    "# results[(src_dataset, arch)] = best_model, best_info\n",
    "\n",
    "# with open(PROB1_res_file, 'w') as f:\n",
    "#     pickle.dump(results, f)\n"
   ]
  },
  {
   "cell_type": "markdown",
   "metadata": {},
   "source": [
    "**TODO** repeat the above for each config in ('ResNet10', 'ResNet26') and ('ImageNet1k', 'CUB')"
   ]
  },
  {
   "cell_type": "code",
   "execution_count": 28,
   "metadata": {},
   "outputs": [
    {
     "name": "stdout",
     "output_type": "stream",
     "text": [
      "Setup complete. Trainable parameter count=5130 over 2 tensors in layers: output.\n"
     ]
    },
    {
     "name": "stderr",
     "output_type": "stream",
     "text": [
      " 83%|██████▋ | 167/201 [03:21<00:40,  1.20s/it, tr_xent=0.249, tr_err=0.0375, va_xent=0.946, va_err=0.28, batch_done=7]\n"
     ]
    },
    {
     "name": "stdout",
     "output_type": "stream",
     "text": [
      "Stopped early.\n",
      "Finished after epoch 167, best epoch=152\n",
      "best va_xent 0.939\n",
      "best tr_err 0.043\n",
      "best va_err 0.300\n"
     ]
    },
    {
     "data": {
      "image/png": "[encoded data removed]",
      "text/plain": [
       "<Figure size 800x550 with 1 Axes>"
      ]
     },
     "metadata": {},
     "output_type": "display_data"
    }
   ],
   "source": [
    "# TODO do tuning expts for Resnet10, CUB\n",
    "\n",
    "if PROB1_EXPERIMENTS:\n",
    "    seed = 15\n",
    "    n_epochs=200,\n",
    "    lr=0.001,\n",
    "    l2pen_mag=0.1,\n",
    "    resnet10_cub = models.PretrainedResNetForBirdSnap10(\n",
    "        src_dataset='CUB', arch='ResNet10', n_trainable_layers=1, seed=seed)\n",
    "    best_model, best_info = train.train_model(resnet10_cub, device, train_loader, val_loader,\n",
    "        n_epochs=200,\n",
    "        lr=0.001,\n",
    "        l2pen_mag=0.1,\n",
    "        data_order_seed=seed,\n",
    "        )\n",
    "    \n",
    "    task_one_results[('ResNet10', 'CUB')] = {\n",
    "        'epochs': best_info['epochs'],\n",
    "        'tr': best_info['tr'],\n",
    "        'va': best_info['va'],\n",
    "        'best_tr_err': best_info['best_tr_err'],\n",
    "        'best_va_err': best_info['best_va_err'],\n",
    "        'best_va_loss': best_info['best_va_loss'],\n",
    "        'best_epoch': best_info['best_epoch'],\n",
    "        'lr': lr,\n",
    "        'l2pen_mag': l2pen_mag,\n",
    "        'seed': seed,\n",
    "    }\n",
    "\n",
    "plt.plot(best_info['epochs'], best_info['tr']['loss'], '--', color='b', label='tr loss')\n",
    "plt.plot(best_info['epochs'], best_info['tr']['err'], '-', color='b', label='tr err')\n",
    "\n",
    "plt.plot(best_info['epochs'], best_info['va']['xent'], '--', color='r', label='va xent')\n",
    "plt.plot(best_info['epochs'], best_info['va']['err'], '-', color='r', label='va err')\n",
    "plt.legend();"
   ]
  },
  {
   "cell_type": "code",
   "execution_count": 29,
   "metadata": {},
   "outputs": [
    {
     "name": "stdout",
     "output_type": "stream",
     "text": [
      "Setup complete. Trainable parameter count=5130 over 2 tensors in layers: output.\n"
     ]
    },
    {
     "name": "stderr",
     "output_type": "stream",
     "text": [
      " 34%|████▍        | 68/201 [01:58<03:52,  1.75s/it, tr_xent=0.0617, tr_err=0, va_xent=0.498, va_err=0.14, batch_done=7]\n"
     ]
    },
    {
     "name": "stdout",
     "output_type": "stream",
     "text": [
      "Stopped early.\n",
      "Finished after epoch 68, best epoch=53\n",
      "best va_xent 0.475\n",
      "best tr_err 0.003\n",
      "best va_err 0.130\n"
     ]
    },
    {
     "data": {
      "image/png": "[encoded data removed]",
      "text/plain": [
       "<Figure size 800x550 with 1 Axes>"
      ]
     },
     "metadata": {},
     "output_type": "display_data"
    }
   ],
   "source": [
    "# TODO do tuning expts for Resnet26, ImageNet1k\n",
    "\n",
    "if PROB1_EXPERIMENTS:\n",
    "    seed = 1011\n",
    "    n_epochs=200,\n",
    "    lr=0.001,\n",
    "    l2pen_mag=0.0,\n",
    "    resnet26_in = models.PretrainedResNetForBirdSnap10(\n",
    "        src_dataset='ImageNet1k', arch='ResNet26', n_trainable_layers=1, seed=seed)\n",
    "    best_model, best_info = train.train_model(resnet26_in, device, train_loader, val_loader,\n",
    "        n_epochs=200,\n",
    "        lr=0.001,\n",
    "        l2pen_mag=0.1,\n",
    "        data_order_seed=seed,\n",
    "        )\n",
    "    task_one_results[('ResNet26', 'ImageNet1k')] = {\n",
    "        'epochs': best_info['epochs'],\n",
    "        'tr': best_info['tr'],\n",
    "        'va': best_info['va'],\n",
    "        'best_tr_err': best_info['best_tr_err'],\n",
    "        'best_va_err': best_info['best_va_err'],\n",
    "        'best_va_loss': best_info['best_va_loss'],\n",
    "        'best_epoch': best_info['best_epoch'],\n",
    "        'lr': lr,\n",
    "        'l2pen_mag': l2pen_mag,\n",
    "        'seed': seed,\n",
    "    }\n",
    "\n",
    "\n",
    "plt.plot(best_info['epochs'], best_info['tr']['loss'], '--', color='b', label='tr loss')\n",
    "plt.plot(best_info['epochs'], best_info['tr']['err'], '-', color='b', label='tr err')\n",
    "\n",
    "plt.plot(best_info['epochs'], best_info['va']['xent'], '--', color='r', label='va xent')\n",
    "plt.plot(best_info['epochs'], best_info['va']['err'], '-', color='r', label='va err')\n",
    "plt.legend();"
   ]
  },
  {
   "cell_type": "code",
   "execution_count": 30,
   "metadata": {},
   "outputs": [
    {
     "name": "stdout",
     "output_type": "stream",
     "text": [
      "Setup complete. Trainable parameter count=5130 over 2 tensors in layers: output.\n"
     ]
    },
    {
     "name": "stderr",
     "output_type": "stream",
     "text": [
      " 61%|██████▋    | 123/201 [03:47<02:24,  1.85s/it, tr_xent=0.26, tr_err=0.045, va_xent=0.84, va_err=0.18, batch_done=7]\n"
     ]
    },
    {
     "name": "stdout",
     "output_type": "stream",
     "text": [
      "Stopped early.\n",
      "Finished after epoch 123, best epoch=108\n",
      "best va_xent 0.800\n",
      "best tr_err 0.043\n",
      "best va_err 0.180\n"
     ]
    },
    {
     "data": {
      "image/png": "[encoded data removed]",
      "text/plain": [
       "<Figure size 800x550 with 1 Axes>"
      ]
     },
     "metadata": {},
     "output_type": "display_data"
    }
   ],
   "source": [
    "# TODO do tuning expts for Resnet26, CUB\n",
    "\n",
    "if PROB1_EXPERIMENTS:\n",
    "    seed = 1011\n",
    "    n_epochs=200,\n",
    "    lr=0.001,\n",
    "    l2pen_mag=0.0,\n",
    "    resnet26_cub = models.PretrainedResNetForBirdSnap10(\n",
    "        src_dataset='CUB', arch='ResNet26', n_trainable_layers=1, seed=seed)\n",
    "    best_model, best_info = train.train_model(resnet26_cub, device, train_loader, val_loader,\n",
    "        n_epochs=200,\n",
    "        lr=0.001,\n",
    "        l2pen_mag=0.0,\n",
    "        data_order_seed=seed,\n",
    "        )\n",
    "    task_one_results[('ResNet26', 'CUB')] = {\n",
    "        'epochs': best_info['epochs'],\n",
    "        'tr': best_info['tr'],\n",
    "        'va': best_info['va'],\n",
    "        'best_tr_err': best_info['best_tr_err'],\n",
    "        'best_va_err': best_info['best_va_err'],\n",
    "        'best_va_loss': best_info['best_va_loss'],\n",
    "        'best_epoch': best_info['best_epoch'],\n",
    "        'lr': lr,\n",
    "        'l2pen_mag': l2pen_mag,\n",
    "        'seed': seed,\n",
    "    }\n",
    "\n",
    "plt.plot(best_info['epochs'], best_info['tr']['loss'], '--', color='b', label='tr loss')\n",
    "plt.plot(best_info['epochs'], best_info['tr']['err'], '-', color='b', label='tr err')\n",
    "\n",
    "plt.plot(best_info['epochs'], best_info['va']['xent'], '--', color='r', label='va xent')\n",
    "plt.plot(best_info['epochs'], best_info['va']['err'], '-', color='r', label='va err')\n",
    "plt.legend();"
   ]
  },
  {
   "cell_type": "code",
   "execution_count": 31,
   "metadata": {},
   "outputs": [],
   "source": [
    "# # GRID SEARCH:\n",
    "\n",
    "# gridsearch_params = {\n",
    "#     'seed': [3,5,15,23,91,96,24,69,66],\n",
    "#     'lr': [0.1,0.01,0.001],\n",
    "#     'l2pen_mag': [0.0,0.1],\n",
    "#     'n_epochs': [200]\n",
    "# }\n",
    "\n",
    "\n",
    "# hyparam_combinations = list(itertools.product(\n",
    "#     gridsearch_params['seed'],\n",
    "#     gridsearch_params['lr'],\n",
    "#     gridsearch_params['l2pen_mag'],\n",
    "#     gridsearch_params['n_epochs']\n",
    "# ))\n",
    "\n",
    "\n",
    "# best_model = None\n",
    "# best_info = None\n",
    "# best_val_loss = float('inf')\n",
    "\n",
    "\n",
    "# for seed, lr, l2pen_mag, n_epochs in hyparam_combinations:\n",
    "#     print(f\"Running experiment with seed={seed}, lr={lr}, l2pen_mag={l2pen_mag}, n_epochs={n_epochs}\")\n",
    "    \n",
    "#     model = models.PretrainedResNetForBirdSnap10(\n",
    "#         src_dataset='ImageNet1k', arch='ResNet26', n_trainable_layers=1, seed=seed\n",
    "#     )\n",
    "    \n",
    "\n",
    "#     trained_model, train_info = train.train_model(\n",
    "#         model,\n",
    "#         device,\n",
    "#         train_loader,\n",
    "#         val_loader,\n",
    "#         n_epochs=n_epochs,\n",
    "#         lr=lr,\n",
    "#         l2pen_mag=l2pen_mag,\n",
    "#         data_order_seed=seed,\n",
    "#     )\n",
    "    \n",
    "#     val_loss = train_info['va']['xent'][-1]\n",
    "\n",
    "#     print(f\"Validation loss: {val_loss}\")\n",
    "\n",
    "#     if val_loss < best_val_loss:\n",
    "#         best_val_loss = val_loss\n",
    "#         best_model = trained_model\n",
    "#         best_info = train_info\n",
    "#         print(\"NEW BEST MODEL\")\n",
    "\n",
    "\n",
    "\n",
    "\n",
    "\n",
    "# plt.figure(figsize=(10, 5))\n",
    "# plt.plot(best_info['epochs'], best_info['tr']['loss'], '--', color='b', label='tr loss')\n",
    "# plt.plot(best_info['epochs'], best_info['tr']['err'], '-', color='b', label='tr err')\n",
    "\n",
    "# plt.plot(best_info['epochs'], best_info['va']['xent'], '--', color='r', label='va xent')\n",
    "# plt.plot(best_info['epochs'], best_info['va']['err'], '-', color='r', label='va err')\n",
    "# plt.xlabel('Epochs')\n",
    "# plt.ylabel('Loss / Error')\n",
    "# plt.title('Training and Validation Loss/Errors')\n",
    "# plt.legend()\n",
    "# plt.grid()\n",
    "# plt.show()"
   ]
  },
  {
   "cell_type": "markdown",
   "metadata": {},
   "source": [
    "# Problem 1 Analysis and Plotting"
   ]
  },
  {
   "cell_type": "code",
   "execution_count": 32,
   "metadata": {},
   "outputs": [],
   "source": [
    "# # Create dummy results so we can show what kind of plots we want\n",
    "# dummy_result = {}\n",
    "\n",
    "# eps = np.arange(20)\n",
    "\n",
    "# dummy_result[('ResNet10', 'ImageNet1k')] = dict(\n",
    "#     lr = 0.123,\n",
    "#     l2pen_mag = 0.0,\n",
    "#     seed = 42,\n",
    "#     epochs=eps,\n",
    "#     tr=dict(\n",
    "#         loss=.7 - .3 * (1 - np.abs(eps-10) / 10), # upside-down triangle\n",
    "#         xent=.68 - .3 * (1 - np.abs(eps-10) / 10), # upside-down triangle\n",
    "#         err=.01 * np.ones(20),\n",
    "#     ),\n",
    "#     va=dict(\n",
    "#         xent=.8 - .2 * (1 - np.abs(eps-10) / 10), # upside-down triangle\n",
    "#         err=.1 * np.ones(20),\n",
    "#     ),\n",
    "#     best_epoch=10,\n",
    "#     best_va_loss=0.6,\n",
    "# )\n",
    "\n",
    "# eps = np.arange(30)\n",
    "# dummy_result[('ResNet10', 'CUB')] = dict(\n",
    "#     lr = 0.456,\n",
    "#     l2pen_mag = 0.0,\n",
    "#     seed = 42,\n",
    "#     epochs=eps,\n",
    "#     tr=dict(\n",
    "#         loss=.7 - .3 * (1 - np.abs(eps-15) / 15),  # upside-down triangle\n",
    "#         xent=.68 - .3 * (1 - np.abs(eps-15) / 15), # upside-down triangle\n",
    "#         err=.01 * np.ones(30),\n",
    "#     ),\n",
    "#     va=dict(\n",
    "#         xent=.9 - .3 * (1 - np.abs(eps-15) / 15), # upside-down triangle\n",
    "#         err=.1 * np.ones(30),\n",
    "#     ),\n",
    "#     best_epoch=15,\n",
    "#     best_va_loss=0.6,\n",
    "# )"
   ]
  },
  {
   "cell_type": "markdown",
   "metadata": {},
   "source": [
    "## Figure 1a: Loss over Epochs\n",
    "\n",
    "Starter code notebook indicates style of plot desired.\n",
    "\n",
    "**TODO** Your job is to make sure the plot shows your *real* results, not our dummy results."
   ]
  },
  {
   "cell_type": "code",
   "execution_count": 33,
   "metadata": {},
   "outputs": [
    {
     "data": {
      "image/png": "[encoded data removed]",
      "text/plain": [
       "<Figure size 900x400 with 2 Axes>"
      ]
     },
     "metadata": {},
     "output_type": "display_data"
    }
   ],
   "source": [
    "_, axgrid = plt.subplots(nrows=1, ncols=2, figsize=(9,4), sharey=True, sharex=False)\n",
    "\n",
    "for panel_id, (arch, src_dataset) in enumerate([\n",
    "        ('ResNet10', 'ImageNet1k'),\n",
    "        ('ResNet10', 'CUB'),\n",
    "        ]):\n",
    "    ax = axgrid[panel_id]\n",
    "    key = (arch, src_dataset)\n",
    "\n",
    "    # Importing best model results\n",
    "    info = task_one_results[key]\n",
    "\n",
    "    ax.plot(info['epochs'], info['va']['xent'], '--', color='r', label='va xent')\n",
    "    ax.plot(info['epochs'], info['tr']['loss'], '--', color='b', label='tr loss')\n",
    "    ax.plot(info['epochs'], info['va']['err'], label='va err', color='r')\n",
    "    ax.plot(info['epochs'], info['tr']['err'], label='tr err', color='b')\n",
    "    ax.plot(info['best_epoch'], info['best_va_loss'], '*', color='r', markersize=12, label='early stop')\n",
    "    ax.set_xlabel('epoch')\n",
    "    if panel_id == 0:\n",
    "        ax.set_ylabel('loss per example')\n",
    "    lr = info['lr']\n",
    "    l2pen = info['l2pen_mag']\n",
    "    seed = info['seed']\n",
    "    ax.set_title(f'{arch}_{src_dataset}\\nlr={lr}, l2pen={l2pen}, seed={seed}')\n",
    "    ax.set_xlim([-0.001, max(info['epochs'])])\n",
    "\n",
    "ax.set_ylim([0.0, 1.5]);\n",
    "ax.legend(bbox_to_anchor=(1.55, 0.6));"
   ]
  },
  {
   "cell_type": "markdown",
   "metadata": {},
   "source": [
    "## Figure 1b: Target Acc vs Source Acc\n",
    "\n",
    "**TODO** Lookup source task accuracy (use top1 if needed) from pytorch cv webpage: https://pypi.org/project/pytorchcv/\n"
   ]
  },
  {
   "cell_type": "code",
   "execution_count": 34,
   "metadata": {},
   "outputs": [],
   "source": [
    "src_acc = {}\n",
    "src_acc[('ResNet10', 'ImageNet1k')] = 1 - 0.3243\n",
    "src_acc[('ResNet26', 'ImageNet1k')] = 1 - 0.2616\n",
    "\n",
    "src_acc[('ResNet10', 'CUB')] = 1 - 0.2777\n",
    "src_acc[('ResNet26', 'CUB')] = 1 - 0.2316"
   ]
  },
  {
   "cell_type": "markdown",
   "metadata": {},
   "source": [
    "**TODO** Measure your best model accuracy using provided test_loader and `eval_acc` function, record values here"
   ]
  },
  {
   "cell_type": "code",
   "execution_count": 47,
   "metadata": {},
   "outputs": [],
   "source": [
    "tar_acc = {}\n",
    "tar_acc[('ResNet10', 'ImageNet1k')] = eval_acc(resnet10_in, device, test_loader)\n",
    "tar_acc[('ResNet26', 'ImageNet1k')] = eval_acc(resnet26_in, device, test_loader)\n",
    "\n",
    "tar_acc[('ResNet10', 'CUB')] = eval_acc(resnet10_cub, device, test_loader)\n",
    "tar_acc[('ResNet26', 'CUB')] = eval_acc(resnet26_cub, device, test_loader)"
   ]
  },
  {
   "cell_type": "code",
   "execution_count": 48,
   "metadata": {},
   "outputs": [
    {
     "name": "stdout",
     "output_type": "stream",
     "text": [
      "{('ResNet10', 'ImageNet1k'): 0.8071428571428572, ('ResNet26', 'ImageNet1k'): 0.8571428571428571, ('ResNet10', 'CUB'): 0.4857142857142857, ('ResNet26', 'CUB'): 0.4928571428571429}\n",
      "{('ResNet10', 'ImageNet1k'): 0.6757, ('ResNet26', 'ImageNet1k'): 0.7384, ('ResNet10', 'CUB'): 0.7222999999999999, ('ResNet26', 'CUB'): 0.7684}\n"
     ]
    }
   ],
   "source": [
    "print(tar_acc)\n",
    "\n",
    "print(src_acc)"
   ]
  },
  {
   "cell_type": "code",
   "execution_count": 49,
   "metadata": {},
   "outputs": [
    {
     "data": {
      "image/png": "[encoded data removed]",
      "text/plain": [
       "<Figure size 900x400 with 2 Axes>"
      ]
     },
     "metadata": {},
     "output_type": "display_data"
    }
   ],
   "source": [
    "_, axgrid = plt.subplots(nrows=1, ncols=2, figsize=(9,4), sharey=True)\n",
    "\n",
    "arch_list = ['ResNet10', 'ResNet26']\n",
    "srcdata_list = ['ImageNet1k', 'CUB']\n",
    "\n",
    "for (arch, src_dataset) in itertools.product(arch_list, srcdata_list):\n",
    "    if src_dataset.count(\"ImageNet\"):\n",
    "        panel_id = 0\n",
    "    else:\n",
    "        panel_id = 1\n",
    "    ax = axgrid[panel_id]\n",
    "    ax.set_title(\"pretrain on \" + src_dataset)\n",
    "    key = \"{arch}_{src_dataset}\".format(arch=arch, src_dataset=src_dataset)\n",
    "    cur_target_acc = tar_acc[(arch, src_dataset)]\n",
    "    cur_src_acc = src_acc[(arch, src_dataset)]\n",
    "    ax.plot(cur_src_acc, cur_target_acc, 'v' if arch.count('10') else '^', label=arch, markersize=12)\n",
    "    ax.set_xlim([0.25, 1.0]); ax.set_xticks([.4, .6, .8, 1]);\n",
    "    ax.set_ylim([0.25, 1.0]); ax.set_yticks([.4, .6, .8, 1]);\n",
    "    ax.set_xlabel(f\"acc on {src_dataset}\");\n",
    "    if panel_id == 0:\n",
    "        ax.set_ylabel(f\"LP acc on BirdSnap10\");\n",
    "plt.legend(bbox_to_anchor=(1.55, 0.6));"
   ]
  },
  {
   "cell_type": "markdown",
   "metadata": {},
   "source": [
    "# Problem 2 Experiments"
   ]
  },
  {
   "cell_type": "markdown",
   "metadata": {},
   "source": [
    "TODO Implement LP-then-FT, via repeated calls to **train_model**\n",
    "\n",
    "* LP phase should use n_trainable_layers=1 (about 5000 trainable params)\n",
    "* FT phase should use n_trainable_layers=3 (about 100000 trainable params)"
   ]
  },
  {
   "cell_type": "code",
   "execution_count": 38,
   "metadata": {},
   "outputs": [],
   "source": [
    "# eps = np.arange(20)\n",
    "\n",
    "# P2_dummy_result = {}\n",
    "\n",
    "# # Phase 1, copy hard work from Problem 1\n",
    "# P2_dummy_result[('ResNet10', 'ImageNet1k','phase1')] = dummy_result[('ResNet10', 'ImageNet1k')]\n",
    "\n",
    "# eps = np.arange(20)\n",
    "# P2_dummy_result[('ResNet10', 'ImageNet1k','phase2')] = dict(\n",
    "#     lr = 0.456,\n",
    "#     l2pen_mag = 0.0,\n",
    "#     seed = 42,\n",
    "#     epochs=np.arange(20),\n",
    "#     tr=dict(\n",
    "#         loss=.3 - 0.15 * (eps/max(eps)),\n",
    "#         err=.01 * np.ones(20),\n",
    "#     ),\n",
    "#     va=dict(\n",
    "#         xent=.6 - 0.15 * (eps/max(eps)),\n",
    "#         err=.1 * np.ones(20),\n",
    "#     ),\n",
    "#     best_epoch=10,\n",
    "#     best_va_loss=0.6,\n",
    "#     test_acc=0.1,\n",
    "# )"
   ]
  },
  {
   "cell_type": "code",
   "execution_count": 39,
   "metadata": {},
   "outputs": [
    {
     "name": "stdout",
     "output_type": "stream",
     "text": [
      "Setup complete. Trainable parameter count=5130 over 2 tensors in layers: output.\n"
     ]
    },
    {
     "name": "stderr",
     "output_type": "stream",
     "text": [
      " 54%|██████▌     | 109/201 [02:11<01:51,  1.21s/it, tr_xent=0.0277, tr_err=0, va_xent=0.363, va_err=0.09, batch_done=7]\n"
     ]
    },
    {
     "name": "stdout",
     "output_type": "stream",
     "text": [
      "Stopped early.\n",
      "Finished after epoch 109, best epoch=94\n",
      "best va_xent 0.355\n",
      "best tr_err 0.000\n",
      "best va_err 0.100\n",
      "Setup complete. Trainable parameter count=137226 over 5 tensors in layers: features.stage4.unit1.identity_conv.conv,features.stage4.unit1.identity_conv.bn,output.\n"
     ]
    },
    {
     "name": "stderr",
     "output_type": "stream",
     "text": [
      " 15%|█▊          | 31/201 [00:39<03:34,  1.26s/it, tr_xent=0.00186, tr_err=0, va_xent=0.338, va_err=0.09, batch_done=7]"
     ]
    },
    {
     "name": "stdout",
     "output_type": "stream",
     "text": [
      "Stopped early.\n",
      "Finished after epoch 31, best epoch=16\n",
      "best va_xent 0.311\n",
      "best tr_err 0.000\n",
      "best va_err 0.090\n"
     ]
    },
    {
     "name": "stderr",
     "output_type": "stream",
     "text": [
      "\n"
     ]
    }
   ],
   "source": [
    "from copy import deepcopy\n",
    "\n",
    "task_two_results = dict()\n",
    "\n",
    "if PROB2_EXPERIMENTS:\n",
    "    seed = 15\n",
    "    n_epochs=200,\n",
    "    lr=0.001,\n",
    "    l2pen_mag=0.1,\n",
    "    resnet10_in_lp = models.PretrainedResNetForBirdSnap10(\n",
    "        src_dataset='ImageNet1k', arch='ResNet10', n_trainable_layers=1, seed=seed)\n",
    "    best_model_lp, best_info_lp = train.train_model(resnet10_in_lp, device, train_loader, val_loader,\n",
    "        n_epochs=200,\n",
    "        lr=0.001,\n",
    "        l2pen_mag=0.1,\n",
    "        data_order_seed=seed,\n",
    "        )\n",
    "    task_two_results[('ResNet10', 'ImageNet1k', 'phase1')] = {\n",
    "        'epochs': best_info_lp['epochs'],\n",
    "        'tr': best_info_lp['tr'],        \n",
    "        'va': best_info_lp['va'],        \n",
    "        'best_tr_err': best_info_lp['best_tr_err'],\n",
    "        'best_va_err': best_info_lp['best_va_err'],\n",
    "        'best_va_loss': best_info_lp['best_va_loss'],\n",
    "        'best_epoch': best_info_lp['best_epoch'],\n",
    "        'lr': lr,\n",
    "        'l2pen_mag': l2pen_mag,\n",
    "        'seed': seed,\n",
    "    }\n",
    "\n",
    "    seed = 23\n",
    "    resnet10_in_ft = models.PretrainedResNetForBirdSnap10(\n",
    "        src_dataset='ImageNet1k', arch='ResNet10', n_trainable_layers=3, seed=seed)\n",
    "\n",
    "    lp_model_copy = deepcopy(resnet10_in_lp.state_dict())\n",
    "    \n",
    "    resnet10_in_ft.load_state_dict(lp_model_copy)\n",
    "    \n",
    "    best_model_ft, best_info_ft = train.train_model(resnet10_in_ft, device, train_loader, val_loader,\n",
    "        n_epochs=200,\n",
    "        lr=0.001,\n",
    "        l2pen_mag=0.1, \n",
    "        data_order_seed=seed,\n",
    "        )\n",
    "    task_two_results[('ResNet10', 'ImageNet1k', 'phase2')] = {\n",
    "        'epochs': best_info_ft['epochs'],          \n",
    "        'tr': best_info_ft['tr'],                  \n",
    "        'va': best_info_ft['va'],                  \n",
    "        'best_tr_err': best_info_ft['best_tr_err'],\n",
    "        'best_va_err': best_info_ft['best_va_err'],\n",
    "        'best_va_loss': best_info_ft['best_va_loss'],\n",
    "        'best_epoch': best_info_ft['best_epoch'],\n",
    "        'lr': lr,\n",
    "        'l2pen_mag': l2pen_mag,\n",
    "        'seed': seed,\n",
    "    }\n",
    "                     "
   ]
  },
  {
   "cell_type": "code",
   "execution_count": 45,
   "metadata": {},
   "outputs": [
    {
     "name": "stdout",
     "output_type": "stream",
     "text": [
      "Running experiment with seed=3, lr=0.1, l2pen_mag=0.0, n_epochs=200\n"
     ]
    },
    {
     "name": "stderr",
     "output_type": "stream",
     "text": [
      "  7%|▉           | 15/201 [00:19<03:58,  1.28s/it, tr_xent=0.000185, tr_err=0, va_xent=1.14, va_err=0.13, batch_done=7]\n"
     ]
    },
    {
     "name": "stdout",
     "output_type": "stream",
     "text": [
      "Stopped early.\n",
      "Finished after epoch 15, best epoch=0\n",
      "best va_xent 0.311\n",
      "best tr_err nan\n",
      "best va_err 0.090\n",
      "Validation loss: 1.1392908096313477\n",
      "NEW BEST MODEL\n",
      "Running experiment with seed=3, lr=0.1, l2pen_mag=0.1, n_epochs=200\n"
     ]
    },
    {
     "name": "stderr",
     "output_type": "stream",
     "text": [
      "  7%|▊          | 15/201 [00:20<04:17,  1.38s/it, tr_xent=0.000629, tr_err=0, va_xent=0.519, va_err=0.11, batch_done=7]\n"
     ]
    },
    {
     "name": "stdout",
     "output_type": "stream",
     "text": [
      "Stopped early.\n",
      "Finished after epoch 15, best epoch=0\n",
      "best va_xent 0.311\n",
      "best tr_err nan\n",
      "best va_err 0.090\n",
      "Validation loss: 0.5192918586730957\n",
      "NEW BEST MODEL\n",
      "Running experiment with seed=3, lr=0.1, l2pen_mag=0.01, n_epochs=200\n"
     ]
    },
    {
     "name": "stderr",
     "output_type": "stream",
     "text": [
      "  7%|▉           | 15/201 [00:21<04:23,  1.42s/it, tr_xent=0.000442, tr_err=0, va_xent=1.15, va_err=0.14, batch_done=7]\n"
     ]
    },
    {
     "name": "stdout",
     "output_type": "stream",
     "text": [
      "Stopped early.\n",
      "Finished after epoch 15, best epoch=0\n",
      "best va_xent 0.311\n",
      "best tr_err nan\n",
      "best va_err 0.090\n",
      "Validation loss: 1.1454432678222655\n",
      "Running experiment with seed=3, lr=0.01, l2pen_mag=0.0, n_epochs=200\n"
     ]
    },
    {
     "name": "stderr",
     "output_type": "stream",
     "text": [
      "  7%|▊          | 15/201 [00:18<03:54,  1.26s/it, tr_xent=0.000626, tr_err=0, va_xent=0.437, va_err=0.11, batch_done=7]\n"
     ]
    },
    {
     "name": "stdout",
     "output_type": "stream",
     "text": [
      "Stopped early.\n",
      "Finished after epoch 15, best epoch=0\n",
      "best va_xent 0.311\n",
      "best tr_err nan\n",
      "best va_err 0.090\n",
      "Validation loss: 0.4374179744720459\n",
      "NEW BEST MODEL\n",
      "Running experiment with seed=3, lr=0.01, l2pen_mag=0.1, n_epochs=200\n"
     ]
    },
    {
     "name": "stderr",
     "output_type": "stream",
     "text": [
      "  7%|▉           | 15/201 [00:20<04:08,  1.34s/it, tr_xent=0.000726, tr_err=0, va_xent=0.427, va_err=0.1, batch_done=7]\n"
     ]
    },
    {
     "name": "stdout",
     "output_type": "stream",
     "text": [
      "Stopped early.\n",
      "Finished after epoch 15, best epoch=0\n",
      "best va_xent 0.311\n",
      "best tr_err nan\n",
      "best va_err 0.090\n",
      "Validation loss: 0.42729700088500977\n",
      "NEW BEST MODEL\n",
      "Running experiment with seed=3, lr=0.01, l2pen_mag=0.01, n_epochs=200\n"
     ]
    },
    {
     "name": "stderr",
     "output_type": "stream",
     "text": [
      "  7%|▊          | 15/201 [00:20<04:17,  1.38s/it, tr_xent=0.000669, tr_err=0, va_xent=0.439, va_err=0.11, batch_done=7]\n"
     ]
    },
    {
     "name": "stdout",
     "output_type": "stream",
     "text": [
      "Stopped early.\n",
      "Finished after epoch 15, best epoch=0\n",
      "best va_xent 0.311\n",
      "best tr_err nan\n",
      "best va_err 0.090\n",
      "Validation loss: 0.4388257884979248\n",
      "Running experiment with seed=3, lr=0.001, l2pen_mag=0.0, n_epochs=200\n"
     ]
    },
    {
     "name": "stderr",
     "output_type": "stream",
     "text": [
      "  7%|▊          | 15/201 [00:18<03:51,  1.24s/it, tr_xent=0.000652, tr_err=0, va_xent=0.415, va_err=0.09, batch_done=7]\n"
     ]
    },
    {
     "name": "stdout",
     "output_type": "stream",
     "text": [
      "Stopped early.\n",
      "Finished after epoch 15, best epoch=0\n",
      "best va_xent 0.311\n",
      "best tr_err nan\n",
      "best va_err 0.090\n",
      "Validation loss: 0.4145444297790527\n",
      "NEW BEST MODEL\n",
      "Running experiment with seed=3, lr=0.001, l2pen_mag=0.1, n_epochs=200\n"
     ]
    },
    {
     "name": "stderr",
     "output_type": "stream",
     "text": [
      "  7%|▊          | 15/201 [00:18<03:55,  1.27s/it, tr_xent=0.000995, tr_err=0, va_xent=0.418, va_err=0.09, batch_done=7]\n"
     ]
    },
    {
     "name": "stdout",
     "output_type": "stream",
     "text": [
      "Stopped early.\n",
      "Finished after epoch 15, best epoch=0\n",
      "best va_xent 0.311\n",
      "best tr_err nan\n",
      "best va_err 0.090\n",
      "Validation loss: 0.4178703117370606\n",
      "Running experiment with seed=3, lr=0.001, l2pen_mag=0.01, n_epochs=200\n"
     ]
    },
    {
     "name": "stderr",
     "output_type": "stream",
     "text": [
      "  7%|▊          | 15/201 [00:22<04:39,  1.50s/it, tr_xent=0.000683, tr_err=0, va_xent=0.415, va_err=0.09, batch_done=7]\n"
     ]
    },
    {
     "name": "stdout",
     "output_type": "stream",
     "text": [
      "Stopped early.\n",
      "Finished after epoch 15, best epoch=0\n",
      "best va_xent 0.311\n",
      "best tr_err nan\n",
      "best va_err 0.090\n",
      "Validation loss: 0.41541690826416017\n",
      "Running experiment with seed=5, lr=0.1, l2pen_mag=0.0, n_epochs=200\n"
     ]
    },
    {
     "name": "stderr",
     "output_type": "stream",
     "text": [
      "  7%|▉           | 15/201 [00:19<03:57,  1.28s/it, tr_xent=0.000402, tr_err=0, va_xent=0.86, va_err=0.11, batch_done=7]\n"
     ]
    },
    {
     "name": "stdout",
     "output_type": "stream",
     "text": [
      "Stopped early.\n",
      "Finished after epoch 15, best epoch=0\n",
      "best va_xent 0.311\n",
      "best tr_err nan\n",
      "best va_err 0.090\n",
      "Validation loss: 0.8599952316284181\n",
      "Running experiment with seed=5, lr=0.1, l2pen_mag=0.1, n_epochs=200\n"
     ]
    },
    {
     "name": "stderr",
     "output_type": "stream",
     "text": [
      "  7%|▉           | 15/201 [00:19<03:59,  1.29s/it, tr_xent=0.00124, tr_err=0, va_xent=0.929, va_err=0.12, batch_done=7]\n"
     ]
    },
    {
     "name": "stdout",
     "output_type": "stream",
     "text": [
      "Stopped early.\n",
      "Finished after epoch 15, best epoch=0\n",
      "best va_xent 0.311\n",
      "best tr_err nan\n",
      "best va_err 0.090\n",
      "Validation loss: 0.929438591003418\n",
      "Running experiment with seed=5, lr=0.1, l2pen_mag=0.01, n_epochs=200\n"
     ]
    },
    {
     "name": "stderr",
     "output_type": "stream",
     "text": [
      "  7%|▉            | 15/201 [00:19<03:59,  1.29s/it, tr_xent=0.00121, tr_err=0, va_xent=0.74, va_err=0.13, batch_done=7]\n"
     ]
    },
    {
     "name": "stdout",
     "output_type": "stream",
     "text": [
      "Stopped early.\n",
      "Finished after epoch 15, best epoch=0\n",
      "best va_xent 0.311\n",
      "best tr_err nan\n",
      "best va_err 0.090\n",
      "Validation loss: 0.7401115417480468\n",
      "Running experiment with seed=5, lr=0.01, l2pen_mag=0.0, n_epochs=200\n"
     ]
    },
    {
     "name": "stderr",
     "output_type": "stream",
     "text": [
      "  7%|▊          | 15/201 [00:17<03:39,  1.18s/it, tr_xent=0.000897, tr_err=0, va_xent=0.497, va_err=0.12, batch_done=7]\n"
     ]
    },
    {
     "name": "stdout",
     "output_type": "stream",
     "text": [
      "Stopped early.\n",
      "Finished after epoch 15, best epoch=0\n",
      "best va_xent 0.311\n",
      "best tr_err nan\n",
      "best va_err 0.090\n",
      "Validation loss: 0.496928768157959\n",
      "Running experiment with seed=5, lr=0.01, l2pen_mag=0.1, n_epochs=200\n"
     ]
    },
    {
     "name": "stderr",
     "output_type": "stream",
     "text": [
      "  7%|▊          | 15/201 [00:17<03:42,  1.20s/it, tr_xent=0.000785, tr_err=0, va_xent=0.429, va_err=0.09, batch_done=7]\n"
     ]
    },
    {
     "name": "stdout",
     "output_type": "stream",
     "text": [
      "Stopped early.\n",
      "Finished after epoch 15, best epoch=0\n",
      "best va_xent 0.311\n",
      "best tr_err nan\n",
      "best va_err 0.090\n",
      "Validation loss: 0.42892641067504883\n",
      "Running experiment with seed=5, lr=0.01, l2pen_mag=0.01, n_epochs=200\n"
     ]
    },
    {
     "name": "stderr",
     "output_type": "stream",
     "text": [
      "  7%|▉           | 15/201 [00:19<03:56,  1.27s/it, tr_xent=0.00121, tr_err=0, va_xent=0.503, va_err=0.12, batch_done=7]\n"
     ]
    },
    {
     "name": "stdout",
     "output_type": "stream",
     "text": [
      "Stopped early.\n",
      "Finished after epoch 15, best epoch=0\n",
      "best va_xent 0.311\n",
      "best tr_err nan\n",
      "best va_err 0.090\n",
      "Validation loss: 0.5030978393554688\n",
      "Running experiment with seed=5, lr=0.001, l2pen_mag=0.0, n_epochs=200\n"
     ]
    },
    {
     "name": "stderr",
     "output_type": "stream",
     "text": [
      "  7%|▊          | 15/201 [00:18<03:55,  1.26s/it, tr_xent=0.000441, tr_err=0, va_xent=0.405, va_err=0.09, batch_done=7]\n"
     ]
    },
    {
     "name": "stdout",
     "output_type": "stream",
     "text": [
      "Stopped early.\n",
      "Finished after epoch 15, best epoch=0\n",
      "best va_xent 0.311\n",
      "best tr_err nan\n",
      "best va_err 0.090\n",
      "Validation loss: 0.4051557731628418\n",
      "NEW BEST MODEL\n",
      "Running experiment with seed=5, lr=0.001, l2pen_mag=0.1, n_epochs=200\n"
     ]
    },
    {
     "name": "stderr",
     "output_type": "stream",
     "text": [
      "  7%|▉           | 15/201 [00:18<03:43,  1.20s/it, tr_xent=0.00106, tr_err=0, va_xent=0.376, va_err=0.09, batch_done=7]\n"
     ]
    },
    {
     "name": "stdout",
     "output_type": "stream",
     "text": [
      "Stopped early.\n",
      "Finished after epoch 15, best epoch=0\n",
      "best va_xent 0.311\n",
      "best tr_err nan\n",
      "best va_err 0.090\n",
      "Validation loss: 0.3756895637512207\n",
      "NEW BEST MODEL\n",
      "Running experiment with seed=5, lr=0.001, l2pen_mag=0.01, n_epochs=200\n"
     ]
    },
    {
     "name": "stderr",
     "output_type": "stream",
     "text": [
      "  7%|▊          | 15/201 [00:19<04:00,  1.29s/it, tr_xent=0.000488, tr_err=0, va_xent=0.401, va_err=0.09, batch_done=7]\n"
     ]
    },
    {
     "name": "stdout",
     "output_type": "stream",
     "text": [
      "Stopped early.\n",
      "Finished after epoch 15, best epoch=0\n",
      "best va_xent 0.311\n",
      "best tr_err nan\n",
      "best va_err 0.090\n",
      "Validation loss: 0.40147119522094726\n",
      "Running experiment with seed=15, lr=0.1, l2pen_mag=0.0, n_epochs=200\n"
     ]
    },
    {
     "name": "stderr",
     "output_type": "stream",
     "text": [
      "  7%|▊          | 15/201 [00:20<04:12,  1.36s/it, tr_xent=0.000269, tr_err=0, va_xent=0.714, va_err=0.14, batch_done=7]\n"
     ]
    },
    {
     "name": "stdout",
     "output_type": "stream",
     "text": [
      "Stopped early.\n",
      "Finished after epoch 15, best epoch=0\n",
      "best va_xent 0.311\n",
      "best tr_err nan\n",
      "best va_err 0.090\n",
      "Validation loss: 0.7138054275512695\n",
      "Running experiment with seed=15, lr=0.1, l2pen_mag=0.1, n_epochs=200\n"
     ]
    },
    {
     "name": "stderr",
     "output_type": "stream",
     "text": [
      "  7%|▊          | 15/201 [00:23<04:47,  1.55s/it, tr_xent=0.000358, tr_err=0, va_xent=0.855, va_err=0.16, batch_done=7]\n"
     ]
    },
    {
     "name": "stdout",
     "output_type": "stream",
     "text": [
      "Stopped early.\n",
      "Finished after epoch 15, best epoch=0\n",
      "best va_xent 0.311\n",
      "best tr_err nan\n",
      "best va_err 0.090\n",
      "Validation loss: 0.8554145050048828\n",
      "Running experiment with seed=15, lr=0.1, l2pen_mag=0.01, n_epochs=200\n"
     ]
    },
    {
     "name": "stderr",
     "output_type": "stream",
     "text": [
      "  7%|▊          | 15/201 [00:18<03:51,  1.25s/it, tr_xent=0.000808, tr_err=0, va_xent=0.772, va_err=0.14, batch_done=7]\n"
     ]
    },
    {
     "name": "stdout",
     "output_type": "stream",
     "text": [
      "Stopped early.\n",
      "Finished after epoch 15, best epoch=0\n",
      "best va_xent 0.311\n",
      "best tr_err nan\n",
      "best va_err 0.090\n",
      "Validation loss: 0.7721849822998047\n",
      "Running experiment with seed=15, lr=0.01, l2pen_mag=0.0, n_epochs=200\n"
     ]
    },
    {
     "name": "stderr",
     "output_type": "stream",
     "text": [
      "  7%|▉           | 15/201 [00:18<03:44,  1.20s/it, tr_xent=0.00223, tr_err=0, va_xent=0.553, va_err=0.11, batch_done=7]\n"
     ]
    },
    {
     "name": "stdout",
     "output_type": "stream",
     "text": [
      "Stopped early.\n",
      "Finished after epoch 15, best epoch=0\n",
      "best va_xent 0.311\n",
      "best tr_err nan\n",
      "best va_err 0.090\n",
      "Validation loss: 0.5527755546569824\n",
      "Running experiment with seed=15, lr=0.01, l2pen_mag=0.1, n_epochs=200\n"
     ]
    },
    {
     "name": "stderr",
     "output_type": "stream",
     "text": [
      "  7%|▉           | 15/201 [00:19<03:57,  1.28s/it, tr_xent=0.00262, tr_err=0, va_xent=0.381, va_err=0.09, batch_done=7]\n"
     ]
    },
    {
     "name": "stdout",
     "output_type": "stream",
     "text": [
      "Stopped early.\n",
      "Finished after epoch 15, best epoch=0\n",
      "best va_xent 0.311\n",
      "best tr_err nan\n",
      "best va_err 0.090\n",
      "Validation loss: 0.38078678131103516\n",
      "Running experiment with seed=15, lr=0.01, l2pen_mag=0.01, n_epochs=200\n"
     ]
    },
    {
     "name": "stderr",
     "output_type": "stream",
     "text": [
      "  7%|▉           | 15/201 [00:18<03:46,  1.22s/it, tr_xent=0.00206, tr_err=0, va_xent=0.502, va_err=0.11, batch_done=7]\n"
     ]
    },
    {
     "name": "stdout",
     "output_type": "stream",
     "text": [
      "Stopped early.\n",
      "Finished after epoch 15, best epoch=0\n",
      "best va_xent 0.311\n",
      "best tr_err nan\n",
      "best va_err 0.090\n",
      "Validation loss: 0.5023070907592773\n",
      "Running experiment with seed=15, lr=0.001, l2pen_mag=0.0, n_epochs=200\n"
     ]
    },
    {
     "name": "stderr",
     "output_type": "stream",
     "text": [
      "  7%|▉           | 15/201 [00:18<03:50,  1.24s/it, tr_xent=0.00106, tr_err=0, va_xent=0.429, va_err=0.08, batch_done=7]\n"
     ]
    },
    {
     "name": "stdout",
     "output_type": "stream",
     "text": [
      "Stopped early.\n",
      "Finished after epoch 15, best epoch=0\n",
      "best va_xent 0.311\n",
      "best tr_err nan\n",
      "best va_err 0.090\n",
      "Validation loss: 0.42907686233520503\n",
      "Running experiment with seed=15, lr=0.001, l2pen_mag=0.1, n_epochs=200\n"
     ]
    },
    {
     "name": "stderr",
     "output_type": "stream",
     "text": [
      "  7%|█             | 15/201 [00:19<03:56,  1.27s/it, tr_xent=0.00174, tr_err=0, va_xent=0.41, va_err=0.1, batch_done=7]\n"
     ]
    },
    {
     "name": "stdout",
     "output_type": "stream",
     "text": [
      "Stopped early.\n",
      "Finished after epoch 15, best epoch=0\n",
      "best va_xent 0.311\n",
      "best tr_err nan\n",
      "best va_err 0.090\n",
      "Validation loss: 0.4102412414550781\n",
      "Running experiment with seed=15, lr=0.001, l2pen_mag=0.01, n_epochs=200\n"
     ]
    },
    {
     "name": "stderr",
     "output_type": "stream",
     "text": [
      "  7%|▉           | 15/201 [00:18<03:48,  1.23s/it, tr_xent=0.00113, tr_err=0, va_xent=0.427, va_err=0.08, batch_done=7]\n"
     ]
    },
    {
     "name": "stdout",
     "output_type": "stream",
     "text": [
      "Stopped early.\n",
      "Finished after epoch 15, best epoch=0\n",
      "best va_xent 0.311\n",
      "best tr_err nan\n",
      "best va_err 0.090\n",
      "Validation loss: 0.4274850845336914\n",
      "Running experiment with seed=23, lr=0.1, l2pen_mag=0.0, n_epochs=200\n"
     ]
    },
    {
     "name": "stderr",
     "output_type": "stream",
     "text": [
      "  7%|▉           | 15/201 [00:18<03:54,  1.26s/it, tr_xent=0.00171, tr_err=0, va_xent=0.626, va_err=0.14, batch_done=7]\n"
     ]
    },
    {
     "name": "stdout",
     "output_type": "stream",
     "text": [
      "Stopped early.\n",
      "Finished after epoch 15, best epoch=0\n",
      "best va_xent 0.311\n",
      "best tr_err nan\n",
      "best va_err 0.090\n",
      "Validation loss: 0.6264970588684082\n",
      "Running experiment with seed=23, lr=0.1, l2pen_mag=0.1, n_epochs=200\n"
     ]
    },
    {
     "name": "stderr",
     "output_type": "stream",
     "text": [
      "  7%|▋        | 15/201 [00:19<03:58,  1.28s/it, tr_xent=0.0147, tr_err=0.0025, va_xent=1.03, va_err=0.11, batch_done=7]\n"
     ]
    },
    {
     "name": "stdout",
     "output_type": "stream",
     "text": [
      "Stopped early.\n",
      "Finished after epoch 15, best epoch=0\n",
      "best va_xent 0.311\n",
      "best tr_err nan\n",
      "best va_err 0.090\n",
      "Validation loss: 1.0289684677124025\n",
      "Running experiment with seed=23, lr=0.1, l2pen_mag=0.01, n_epochs=200\n"
     ]
    },
    {
     "name": "stderr",
     "output_type": "stream",
     "text": [
      "  7%|▌       | 15/201 [00:18<03:54,  1.26s/it, tr_xent=0.00495, tr_err=0.0025, va_xent=1.09, va_err=0.17, batch_done=7]\n"
     ]
    },
    {
     "name": "stdout",
     "output_type": "stream",
     "text": [
      "Stopped early.\n",
      "Finished after epoch 15, best epoch=0\n",
      "best va_xent 0.311\n",
      "best tr_err nan\n",
      "best va_err 0.090\n",
      "Validation loss: 1.0881352996826172\n",
      "Running experiment with seed=23, lr=0.01, l2pen_mag=0.0, n_epochs=200\n"
     ]
    },
    {
     "name": "stderr",
     "output_type": "stream",
     "text": [
      "  7%|▉           | 15/201 [00:18<03:50,  1.24s/it, tr_xent=0.00316, tr_err=0, va_xent=0.444, va_err=0.11, batch_done=7]\n"
     ]
    },
    {
     "name": "stdout",
     "output_type": "stream",
     "text": [
      "Stopped early.\n",
      "Finished after epoch 15, best epoch=0\n",
      "best va_xent 0.311\n",
      "best tr_err nan\n",
      "best va_err 0.090\n",
      "Validation loss: 0.4437692070007324\n",
      "Running experiment with seed=23, lr=0.01, l2pen_mag=0.1, n_epochs=200\n"
     ]
    },
    {
     "name": "stderr",
     "output_type": "stream",
     "text": [
      "  7%|▉           | 15/201 [00:19<03:55,  1.27s/it, tr_xent=0.00336, tr_err=0, va_xent=0.399, va_err=0.08, batch_done=7]\n"
     ]
    },
    {
     "name": "stdout",
     "output_type": "stream",
     "text": [
      "Stopped early.\n",
      "Finished after epoch 15, best epoch=0\n",
      "best va_xent 0.311\n",
      "best tr_err nan\n",
      "best va_err 0.090\n",
      "Validation loss: 0.39893712997436526\n",
      "Running experiment with seed=23, lr=0.01, l2pen_mag=0.01, n_epochs=200\n"
     ]
    },
    {
     "name": "stderr",
     "output_type": "stream",
     "text": [
      "  7%|▉           | 15/201 [00:18<03:52,  1.25s/it, tr_xent=0.00312, tr_err=0, va_xent=0.445, va_err=0.11, batch_done=7]\n"
     ]
    },
    {
     "name": "stdout",
     "output_type": "stream",
     "text": [
      "Stopped early.\n",
      "Finished after epoch 15, best epoch=0\n",
      "best va_xent 0.311\n",
      "best tr_err nan\n",
      "best va_err 0.090\n",
      "Validation loss: 0.4447969627380371\n",
      "Running experiment with seed=23, lr=0.001, l2pen_mag=0.0, n_epochs=200\n"
     ]
    },
    {
     "name": "stderr",
     "output_type": "stream",
     "text": [
      "  7%|▊          | 15/201 [00:18<03:54,  1.26s/it, tr_xent=0.000516, tr_err=0, va_xent=0.361, va_err=0.09, batch_done=7]\n"
     ]
    },
    {
     "name": "stdout",
     "output_type": "stream",
     "text": [
      "Stopped early.\n",
      "Finished after epoch 15, best epoch=0\n",
      "best va_xent 0.311\n",
      "best tr_err nan\n",
      "best va_err 0.090\n",
      "Validation loss: 0.3612488555908203\n",
      "NEW BEST MODEL\n",
      "Running experiment with seed=23, lr=0.001, l2pen_mag=0.1, n_epochs=200\n"
     ]
    },
    {
     "name": "stderr",
     "output_type": "stream",
     "text": [
      "  7%|▉           | 15/201 [00:18<03:50,  1.24s/it, tr_xent=0.00214, tr_err=0, va_xent=0.322, va_err=0.09, batch_done=7]\n"
     ]
    },
    {
     "name": "stdout",
     "output_type": "stream",
     "text": [
      "Stopped early.\n",
      "Finished after epoch 15, best epoch=0\n",
      "best va_xent 0.311\n",
      "best tr_err nan\n",
      "best va_err 0.090\n",
      "Validation loss: 0.32200141906738283\n",
      "NEW BEST MODEL\n",
      "Running experiment with seed=23, lr=0.001, l2pen_mag=0.01, n_epochs=200\n"
     ]
    },
    {
     "name": "stderr",
     "output_type": "stream",
     "text": [
      "  7%|▉           | 15/201 [00:18<03:55,  1.27s/it, tr_xent=0.00059, tr_err=0, va_xent=0.355, va_err=0.09, batch_done=7]\n"
     ]
    },
    {
     "name": "stdout",
     "output_type": "stream",
     "text": [
      "Stopped early.\n",
      "Finished after epoch 15, best epoch=0\n",
      "best va_xent 0.311\n",
      "best tr_err nan\n",
      "best va_err 0.090\n",
      "Validation loss: 0.35477331161499026\n",
      "Running experiment with seed=91, lr=0.1, l2pen_mag=0.0, n_epochs=200\n"
     ]
    },
    {
     "name": "stderr",
     "output_type": "stream",
     "text": [
      "  7%|▉           | 15/201 [00:18<03:54,  1.26s/it, tr_xent=0.000427, tr_err=0, va_xent=0.857, va_err=0.1, batch_done=7]\n"
     ]
    },
    {
     "name": "stdout",
     "output_type": "stream",
     "text": [
      "Stopped early.\n",
      "Finished after epoch 15, best epoch=0\n",
      "best va_xent 0.311\n",
      "best tr_err nan\n",
      "best va_err 0.090\n",
      "Validation loss: 0.8566231918334961\n",
      "Running experiment with seed=91, lr=0.1, l2pen_mag=0.1, n_epochs=200\n"
     ]
    },
    {
     "name": "stderr",
     "output_type": "stream",
     "text": [
      "  7%|▉           | 15/201 [00:19<03:55,  1.27s/it, tr_xent=0.00536, tr_err=0, va_xent=0.709, va_err=0.12, batch_done=7]\n"
     ]
    },
    {
     "name": "stdout",
     "output_type": "stream",
     "text": [
      "Stopped early.\n",
      "Finished after epoch 15, best epoch=0\n",
      "best va_xent 0.311\n",
      "best tr_err nan\n",
      "best va_err 0.090\n",
      "Validation loss: 0.7088279724121094\n",
      "Running experiment with seed=91, lr=0.1, l2pen_mag=0.01, n_epochs=200\n"
     ]
    },
    {
     "name": "stderr",
     "output_type": "stream",
     "text": [
      "  7%|▊          | 15/201 [00:18<03:52,  1.25s/it, tr_xent=0.000693, tr_err=0, va_xent=0.897, va_err=0.13, batch_done=7]\n"
     ]
    },
    {
     "name": "stdout",
     "output_type": "stream",
     "text": [
      "Stopped early.\n",
      "Finished after epoch 15, best epoch=0\n",
      "best va_xent 0.311\n",
      "best tr_err nan\n",
      "best va_err 0.090\n",
      "Validation loss: 0.8968546295166016\n",
      "Running experiment with seed=91, lr=0.01, l2pen_mag=0.0, n_epochs=200\n"
     ]
    },
    {
     "name": "stderr",
     "output_type": "stream",
     "text": [
      "  7%|▉           | 15/201 [00:19<04:01,  1.30s/it, tr_xent=0.00134, tr_err=0, va_xent=0.466, va_err=0.12, batch_done=7]\n"
     ]
    },
    {
     "name": "stdout",
     "output_type": "stream",
     "text": [
      "Stopped early.\n",
      "Finished after epoch 15, best epoch=0\n",
      "best va_xent 0.311\n",
      "best tr_err nan\n",
      "best va_err 0.090\n",
      "Validation loss: 0.4661308860778809\n",
      "Running experiment with seed=91, lr=0.01, l2pen_mag=0.1, n_epochs=200\n"
     ]
    },
    {
     "name": "stderr",
     "output_type": "stream",
     "text": [
      "  7%|▉           | 15/201 [00:18<03:52,  1.25s/it, tr_xent=0.00129, tr_err=0, va_xent=0.445, va_err=0.12, batch_done=7]\n"
     ]
    },
    {
     "name": "stdout",
     "output_type": "stream",
     "text": [
      "Stopped early.\n",
      "Finished after epoch 15, best epoch=0\n",
      "best va_xent 0.311\n",
      "best tr_err nan\n",
      "best va_err 0.090\n",
      "Validation loss: 0.4454070281982422\n",
      "Running experiment with seed=91, lr=0.01, l2pen_mag=0.01, n_epochs=200\n"
     ]
    },
    {
     "name": "stderr",
     "output_type": "stream",
     "text": [
      "  7%|▉           | 15/201 [00:19<04:02,  1.30s/it, tr_xent=0.00139, tr_err=0, va_xent=0.465, va_err=0.12, batch_done=7]\n"
     ]
    },
    {
     "name": "stdout",
     "output_type": "stream",
     "text": [
      "Stopped early.\n",
      "Finished after epoch 15, best epoch=0\n",
      "best va_xent 0.311\n",
      "best tr_err nan\n",
      "best va_err 0.090\n",
      "Validation loss: 0.4649295997619629\n",
      "Running experiment with seed=91, lr=0.001, l2pen_mag=0.0, n_epochs=200\n"
     ]
    },
    {
     "name": "stderr",
     "output_type": "stream",
     "text": [
      "  7%|▊          | 15/201 [00:19<03:58,  1.28s/it, tr_xent=0.000429, tr_err=0, va_xent=0.367, va_err=0.09, batch_done=7]\n"
     ]
    },
    {
     "name": "stdout",
     "output_type": "stream",
     "text": [
      "Stopped early.\n",
      "Finished after epoch 15, best epoch=0\n",
      "best va_xent 0.311\n",
      "best tr_err nan\n",
      "best va_err 0.090\n",
      "Validation loss: 0.3670512199401855\n",
      "Running experiment with seed=91, lr=0.001, l2pen_mag=0.1, n_epochs=200\n"
     ]
    },
    {
     "name": "stderr",
     "output_type": "stream",
     "text": [
      "  7%|▊          | 15/201 [00:19<04:00,  1.30s/it, tr_xent=0.000779, tr_err=0, va_xent=0.351, va_err=0.09, batch_done=7]\n"
     ]
    },
    {
     "name": "stdout",
     "output_type": "stream",
     "text": [
      "Stopped early.\n",
      "Finished after epoch 15, best epoch=0\n",
      "best va_xent 0.311\n",
      "best tr_err nan\n",
      "best va_err 0.090\n",
      "Validation loss: 0.3513933944702149\n",
      "Running experiment with seed=91, lr=0.001, l2pen_mag=0.01, n_epochs=200\n"
     ]
    },
    {
     "name": "stderr",
     "output_type": "stream",
     "text": [
      "  7%|▉           | 15/201 [00:19<03:58,  1.28s/it, tr_xent=0.000458, tr_err=0, va_xent=0.365, va_err=0.1, batch_done=7]\n"
     ]
    },
    {
     "name": "stdout",
     "output_type": "stream",
     "text": [
      "Stopped early.\n",
      "Finished after epoch 15, best epoch=0\n",
      "best va_xent 0.311\n",
      "best tr_err nan\n",
      "best va_err 0.090\n",
      "Validation loss: 0.3646964454650879\n",
      "Running experiment with seed=96, lr=0.1, l2pen_mag=0.0, n_epochs=200\n"
     ]
    },
    {
     "name": "stderr",
     "output_type": "stream",
     "text": [
      "  7%|▊          | 15/201 [00:19<03:57,  1.28s/it, tr_xent=0.000178, tr_err=0, va_xent=0.867, va_err=0.15, batch_done=7]\n"
     ]
    },
    {
     "name": "stdout",
     "output_type": "stream",
     "text": [
      "Stopped early.\n",
      "Finished after epoch 15, best epoch=0\n",
      "best va_xent 0.311\n",
      "best tr_err nan\n",
      "best va_err 0.090\n",
      "Validation loss: 0.8671652221679688\n",
      "Running experiment with seed=96, lr=0.1, l2pen_mag=0.1, n_epochs=200\n"
     ]
    },
    {
     "name": "stderr",
     "output_type": "stream",
     "text": [
      "  7%|▉           | 15/201 [00:18<03:54,  1.26s/it, tr_xent=0.00041, tr_err=0, va_xent=0.752, va_err=0.12, batch_done=7]\n"
     ]
    },
    {
     "name": "stdout",
     "output_type": "stream",
     "text": [
      "Stopped early.\n",
      "Finished after epoch 15, best epoch=0\n",
      "best va_xent 0.311\n",
      "best tr_err nan\n",
      "best va_err 0.090\n",
      "Validation loss: 0.7517612457275391\n",
      "Running experiment with seed=96, lr=0.1, l2pen_mag=0.01, n_epochs=200\n"
     ]
    },
    {
     "name": "stderr",
     "output_type": "stream",
     "text": [
      "  7%|▊          | 15/201 [00:19<03:57,  1.28s/it, tr_xent=0.000192, tr_err=0, va_xent=0.805, va_err=0.15, batch_done=7]\n"
     ]
    },
    {
     "name": "stdout",
     "output_type": "stream",
     "text": [
      "Stopped early.\n",
      "Finished after epoch 15, best epoch=0\n",
      "best va_xent 0.311\n",
      "best tr_err nan\n",
      "best va_err 0.090\n",
      "Validation loss: 0.8047025680541993\n",
      "Running experiment with seed=96, lr=0.01, l2pen_mag=0.0, n_epochs=200\n"
     ]
    },
    {
     "name": "stderr",
     "output_type": "stream",
     "text": [
      "  7%|▊          | 15/201 [00:19<04:01,  1.30s/it, tr_xent=0.000969, tr_err=0, va_xent=0.498, va_err=0.13, batch_done=7]\n"
     ]
    },
    {
     "name": "stdout",
     "output_type": "stream",
     "text": [
      "Stopped early.\n",
      "Finished after epoch 15, best epoch=0\n",
      "best va_xent 0.311\n",
      "best tr_err nan\n",
      "best va_err 0.090\n",
      "Validation loss: 0.4979997253417969\n",
      "Running experiment with seed=96, lr=0.01, l2pen_mag=0.1, n_epochs=200\n"
     ]
    },
    {
     "name": "stderr",
     "output_type": "stream",
     "text": [
      "  7%|▊          | 15/201 [00:19<04:00,  1.29s/it, tr_xent=0.000712, tr_err=0, va_xent=0.425, va_err=0.12, batch_done=7]\n"
     ]
    },
    {
     "name": "stdout",
     "output_type": "stream",
     "text": [
      "Stopped early.\n",
      "Finished after epoch 15, best epoch=0\n",
      "best va_xent 0.311\n",
      "best tr_err nan\n",
      "best va_err 0.090\n",
      "Validation loss: 0.42515235900878906\n",
      "Running experiment with seed=96, lr=0.01, l2pen_mag=0.01, n_epochs=200\n"
     ]
    },
    {
     "name": "stderr",
     "output_type": "stream",
     "text": [
      "  7%|▊          | 15/201 [00:20<04:18,  1.39s/it, tr_xent=0.000877, tr_err=0, va_xent=0.489, va_err=0.13, batch_done=7]\n"
     ]
    },
    {
     "name": "stdout",
     "output_type": "stream",
     "text": [
      "Stopped early.\n",
      "Finished after epoch 15, best epoch=0\n",
      "best va_xent 0.311\n",
      "best tr_err nan\n",
      "best va_err 0.090\n",
      "Validation loss: 0.48859926223754885\n",
      "Running experiment with seed=96, lr=0.001, l2pen_mag=0.0, n_epochs=200\n"
     ]
    },
    {
     "name": "stderr",
     "output_type": "stream",
     "text": [
      "  7%|▊          | 15/201 [00:21<04:22,  1.41s/it, tr_xent=0.000689, tr_err=0, va_xent=0.375, va_err=0.08, batch_done=7]\n"
     ]
    },
    {
     "name": "stdout",
     "output_type": "stream",
     "text": [
      "Stopped early.\n",
      "Finished after epoch 15, best epoch=0\n",
      "best va_xent 0.311\n",
      "best tr_err nan\n",
      "best va_err 0.090\n",
      "Validation loss: 0.37532032012939454\n",
      "Running experiment with seed=96, lr=0.001, l2pen_mag=0.1, n_epochs=200\n"
     ]
    },
    {
     "name": "stderr",
     "output_type": "stream",
     "text": [
      "  7%|▊          | 15/201 [00:19<04:04,  1.31s/it, tr_xent=0.000881, tr_err=0, va_xent=0.358, va_err=0.08, batch_done=7]\n"
     ]
    },
    {
     "name": "stdout",
     "output_type": "stream",
     "text": [
      "Stopped early.\n",
      "Finished after epoch 15, best epoch=0\n",
      "best va_xent 0.311\n",
      "best tr_err nan\n",
      "best va_err 0.090\n",
      "Validation loss: 0.3582583236694336\n",
      "Running experiment with seed=96, lr=0.001, l2pen_mag=0.01, n_epochs=200\n"
     ]
    },
    {
     "name": "stderr",
     "output_type": "stream",
     "text": [
      "  7%|▊          | 15/201 [00:18<03:47,  1.22s/it, tr_xent=0.000707, tr_err=0, va_xent=0.374, va_err=0.08, batch_done=7]\n"
     ]
    },
    {
     "name": "stdout",
     "output_type": "stream",
     "text": [
      "Stopped early.\n",
      "Finished after epoch 15, best epoch=0\n",
      "best va_xent 0.311\n",
      "best tr_err nan\n",
      "best va_err 0.090\n",
      "Validation loss: 0.37351083755493164\n",
      "Running experiment with seed=24, lr=0.1, l2pen_mag=0.0, n_epochs=200\n"
     ]
    },
    {
     "name": "stderr",
     "output_type": "stream",
     "text": [
      "  7%|▉           | 15/201 [00:20<04:08,  1.34s/it, tr_xent=0.000261, tr_err=0, va_xent=1.07, va_err=0.15, batch_done=7]\n"
     ]
    },
    {
     "name": "stdout",
     "output_type": "stream",
     "text": [
      "Stopped early.\n",
      "Finished after epoch 15, best epoch=0\n",
      "best va_xent 0.311\n",
      "best tr_err nan\n",
      "best va_err 0.090\n",
      "Validation loss: 1.0686256790161133\n",
      "Running experiment with seed=24, lr=0.1, l2pen_mag=0.1, n_epochs=200\n"
     ]
    },
    {
     "name": "stderr",
     "output_type": "stream",
     "text": [
      "  7%|▉           | 15/201 [00:19<03:57,  1.28s/it, tr_xent=0.000543, tr_err=0, va_xent=1.18, va_err=0.15, batch_done=7]\n"
     ]
    },
    {
     "name": "stdout",
     "output_type": "stream",
     "text": [
      "Stopped early.\n",
      "Finished after epoch 15, best epoch=0\n",
      "best va_xent 0.311\n",
      "best tr_err nan\n",
      "best va_err 0.090\n",
      "Validation loss: 1.1842524337768556\n",
      "Running experiment with seed=24, lr=0.1, l2pen_mag=0.01, n_epochs=200\n"
     ]
    },
    {
     "name": "stderr",
     "output_type": "stream",
     "text": [
      "  7%|▉           | 15/201 [00:18<03:54,  1.26s/it, tr_xent=0.000266, tr_err=0, va_xent=1.06, va_err=0.16, batch_done=7]\n"
     ]
    },
    {
     "name": "stdout",
     "output_type": "stream",
     "text": [
      "Stopped early.\n",
      "Finished after epoch 15, best epoch=0\n",
      "best va_xent 0.311\n",
      "best tr_err nan\n",
      "best va_err 0.090\n",
      "Validation loss: 1.0622192764282226\n",
      "Running experiment with seed=24, lr=0.01, l2pen_mag=0.0, n_epochs=200\n"
     ]
    },
    {
     "name": "stderr",
     "output_type": "stream",
     "text": [
      "  7%|▉           | 15/201 [00:19<04:05,  1.32s/it, tr_xent=0.000839, tr_err=0, va_xent=0.341, va_err=0.1, batch_done=7]\n"
     ]
    },
    {
     "name": "stdout",
     "output_type": "stream",
     "text": [
      "Stopped early.\n",
      "Finished after epoch 15, best epoch=0\n",
      "best va_xent 0.311\n",
      "best tr_err nan\n",
      "best va_err 0.090\n",
      "Validation loss: 0.3414819812774658\n",
      "Running experiment with seed=24, lr=0.01, l2pen_mag=0.1, n_epochs=200\n"
     ]
    },
    {
     "name": "stderr",
     "output_type": "stream",
     "text": [
      " 14%|█▊           | 28/201 [00:35<03:41,  1.28s/it, tr_xent=0.00137, tr_err=0, va_xent=0.331, va_err=0.1, batch_done=7]\n"
     ]
    },
    {
     "name": "stdout",
     "output_type": "stream",
     "text": [
      "Stopped early.\n",
      "Finished after epoch 28, best epoch=13\n",
      "best va_xent 0.306\n",
      "best tr_err 0.000\n",
      "best va_err 0.110\n",
      "Validation loss: 0.33105787277221677\n",
      "Running experiment with seed=24, lr=0.01, l2pen_mag=0.01, n_epochs=200\n"
     ]
    },
    {
     "name": "stderr",
     "output_type": "stream",
     "text": [
      "  7%|▉            | 15/201 [00:20<04:08,  1.34s/it, tr_xent=0.0001, tr_err=0, va_xent=0.487, va_err=0.11, batch_done=7]\n"
     ]
    },
    {
     "name": "stdout",
     "output_type": "stream",
     "text": [
      "Stopped early.\n",
      "Finished after epoch 15, best epoch=0\n",
      "best va_xent 0.306\n",
      "best tr_err nan\n",
      "best va_err 0.110\n",
      "Validation loss: 0.4874382972717285\n",
      "Running experiment with seed=24, lr=0.001, l2pen_mag=0.0, n_epochs=200\n"
     ]
    },
    {
     "name": "stderr",
     "output_type": "stream",
     "text": [
      "  8%|▉          | 17/201 [00:22<04:05,  1.34s/it, tr_xent=0.000104, tr_err=0, va_xent=0.354, va_err=0.11, batch_done=7]\n"
     ]
    },
    {
     "name": "stdout",
     "output_type": "stream",
     "text": [
      "Stopped early.\n",
      "Finished after epoch 17, best epoch=2\n",
      "best va_xent 0.305\n",
      "best tr_err 0.000\n",
      "best va_err 0.110\n",
      "Validation loss: 0.3543301200866699\n",
      "Running experiment with seed=24, lr=0.001, l2pen_mag=0.1, n_epochs=200\n"
     ]
    },
    {
     "name": "stderr",
     "output_type": "stream",
     "text": [
      "  7%|▊          | 15/201 [00:19<03:58,  1.28s/it, tr_xent=0.000435, tr_err=0, va_xent=0.347, va_err=0.11, batch_done=7]\n"
     ]
    },
    {
     "name": "stdout",
     "output_type": "stream",
     "text": [
      "Stopped early.\n",
      "Finished after epoch 15, best epoch=0\n",
      "best va_xent 0.305\n",
      "best tr_err nan\n",
      "best va_err 0.110\n",
      "Validation loss: 0.34691534042358396\n",
      "Running experiment with seed=24, lr=0.001, l2pen_mag=0.01, n_epochs=200\n"
     ]
    },
    {
     "name": "stderr",
     "output_type": "stream",
     "text": [
      "  7%|▉           | 15/201 [00:20<04:20,  1.40s/it, tr_xent=6.61e-5, tr_err=0, va_xent=0.407, va_err=0.12, batch_done=7]\n"
     ]
    },
    {
     "name": "stdout",
     "output_type": "stream",
     "text": [
      "Stopped early.\n",
      "Finished after epoch 15, best epoch=0\n",
      "best va_xent 0.305\n",
      "best tr_err nan\n",
      "best va_err 0.110\n",
      "Validation loss: 0.4067929649353027\n",
      "Running experiment with seed=69, lr=0.1, l2pen_mag=0.0, n_epochs=200\n"
     ]
    },
    {
     "name": "stderr",
     "output_type": "stream",
     "text": [
      "  7%|▊          | 15/201 [00:19<04:01,  1.30s/it, tr_xent=0.000378, tr_err=0, va_xent=0.776, va_err=0.13, batch_done=7]\n"
     ]
    },
    {
     "name": "stdout",
     "output_type": "stream",
     "text": [
      "Stopped early.\n",
      "Finished after epoch 15, best epoch=0\n",
      "best va_xent 0.305\n",
      "best tr_err nan\n",
      "best va_err 0.110\n",
      "Validation loss: 0.7756699752807616\n",
      "Running experiment with seed=69, lr=0.1, l2pen_mag=0.1, n_epochs=200\n"
     ]
    },
    {
     "name": "stderr",
     "output_type": "stream",
     "text": [
      "  7%|█             | 15/201 [00:20<04:12,  1.36s/it, tr_xent=0.006, tr_err=0, va_xent=0.763, va_err=0.12, batch_done=7]\n"
     ]
    },
    {
     "name": "stdout",
     "output_type": "stream",
     "text": [
      "Stopped early.\n",
      "Finished after epoch 15, best epoch=0\n",
      "best va_xent 0.305\n",
      "best tr_err nan\n",
      "best va_err 0.110\n",
      "Validation loss: 0.7629055786132812\n",
      "Running experiment with seed=69, lr=0.1, l2pen_mag=0.01, n_epochs=200\n"
     ]
    },
    {
     "name": "stderr",
     "output_type": "stream",
     "text": [
      "  7%|▉           | 15/201 [00:20<04:11,  1.35s/it, tr_xent=0.000775, tr_err=0, va_xent=0.617, va_err=0.1, batch_done=7]\n"
     ]
    },
    {
     "name": "stdout",
     "output_type": "stream",
     "text": [
      "Stopped early.\n",
      "Finished after epoch 15, best epoch=0\n",
      "best va_xent 0.305\n",
      "best tr_err nan\n",
      "best va_err 0.110\n",
      "Validation loss: 0.61720796585083\n",
      "Running experiment with seed=69, lr=0.01, l2pen_mag=0.0, n_epochs=200\n"
     ]
    },
    {
     "name": "stderr",
     "output_type": "stream",
     "text": [
      "  7%|▊          | 15/201 [00:20<04:18,  1.39s/it, tr_xent=0.000541, tr_err=0, va_xent=0.528, va_err=0.14, batch_done=7]\n"
     ]
    },
    {
     "name": "stdout",
     "output_type": "stream",
     "text": [
      "Stopped early.\n",
      "Finished after epoch 15, best epoch=0\n",
      "best va_xent 0.305\n",
      "best tr_err nan\n",
      "best va_err 0.110\n",
      "Validation loss: 0.5275158119201661\n",
      "Running experiment with seed=69, lr=0.01, l2pen_mag=0.1, n_epochs=200\n"
     ]
    },
    {
     "name": "stderr",
     "output_type": "stream",
     "text": [
      "  7%|▉           | 15/201 [00:20<04:11,  1.35s/it, tr_xent=0.00123, tr_err=0, va_xent=0.538, va_err=0.12, batch_done=7]\n"
     ]
    },
    {
     "name": "stdout",
     "output_type": "stream",
     "text": [
      "Stopped early.\n",
      "Finished after epoch 15, best epoch=0\n",
      "best va_xent 0.305\n",
      "best tr_err nan\n",
      "best va_err 0.110\n",
      "Validation loss: 0.5379271125793457\n",
      "Running experiment with seed=69, lr=0.01, l2pen_mag=0.01, n_epochs=200\n"
     ]
    },
    {
     "name": "stderr",
     "output_type": "stream",
     "text": [
      "  7%|▉           | 15/201 [00:20<04:09,  1.34s/it, tr_xent=0.000117, tr_err=0, va_xent=0.564, va_err=0.1, batch_done=7]\n"
     ]
    },
    {
     "name": "stdout",
     "output_type": "stream",
     "text": [
      "Stopped early.\n",
      "Finished after epoch 15, best epoch=0\n",
      "best va_xent 0.305\n",
      "best tr_err nan\n",
      "best va_err 0.110\n",
      "Validation loss: 0.5637617301940918\n",
      "Running experiment with seed=69, lr=0.001, l2pen_mag=0.0, n_epochs=200\n"
     ]
    },
    {
     "name": "stderr",
     "output_type": "stream",
     "text": [
      "  7%|▊          | 15/201 [00:20<04:10,  1.34s/it, tr_xent=0.000241, tr_err=0, va_xent=0.351, va_err=0.12, batch_done=7]\n"
     ]
    },
    {
     "name": "stdout",
     "output_type": "stream",
     "text": [
      "Stopped early.\n",
      "Finished after epoch 15, best epoch=0\n",
      "best va_xent 0.305\n",
      "best tr_err nan\n",
      "best va_err 0.110\n",
      "Validation loss: 0.3512630558013916\n",
      "Running experiment with seed=69, lr=0.001, l2pen_mag=0.1, n_epochs=200\n"
     ]
    },
    {
     "name": "stderr",
     "output_type": "stream",
     "text": [
      "  7%|▊          | 15/201 [00:21<04:22,  1.41s/it, tr_xent=0.000743, tr_err=0, va_xent=0.339, va_err=0.11, batch_done=7]\n"
     ]
    },
    {
     "name": "stdout",
     "output_type": "stream",
     "text": [
      "Stopped early.\n",
      "Finished after epoch 15, best epoch=0\n",
      "best va_xent 0.305\n",
      "best tr_err nan\n",
      "best va_err 0.110\n",
      "Validation loss: 0.3387710475921631\n",
      "Running experiment with seed=69, lr=0.001, l2pen_mag=0.01, n_epochs=200\n"
     ]
    },
    {
     "name": "stderr",
     "output_type": "stream",
     "text": [
      "  7%|▊          | 15/201 [00:21<04:21,  1.41s/it, tr_xent=0.000284, tr_err=0, va_xent=0.349, va_err=0.12, batch_done=7]\n"
     ]
    },
    {
     "name": "stdout",
     "output_type": "stream",
     "text": [
      "Stopped early.\n",
      "Finished after epoch 15, best epoch=0\n",
      "best va_xent 0.305\n",
      "best tr_err nan\n",
      "best va_err 0.110\n",
      "Validation loss: 0.3492313003540039\n",
      "Running experiment with seed=66, lr=0.1, l2pen_mag=0.0, n_epochs=200\n"
     ]
    },
    {
     "name": "stderr",
     "output_type": "stream",
     "text": [
      "  7%|▉           | 15/201 [00:19<04:06,  1.33s/it, tr_xent=0.000527, tr_err=0, va_xent=0.96, va_err=0.17, batch_done=7]\n"
     ]
    },
    {
     "name": "stdout",
     "output_type": "stream",
     "text": [
      "Stopped early.\n",
      "Finished after epoch 15, best epoch=0\n",
      "best va_xent 0.305\n",
      "best tr_err nan\n",
      "best va_err 0.110\n",
      "Validation loss: 0.9599949264526367\n",
      "Running experiment with seed=66, lr=0.1, l2pen_mag=0.1, n_epochs=200\n"
     ]
    },
    {
     "name": "stderr",
     "output_type": "stream",
     "text": [
      "  7%|▉           | 15/201 [00:20<04:08,  1.34s/it, tr_xent=0.000462, tr_err=0, va_xent=0.685, va_err=0.1, batch_done=7]\n"
     ]
    },
    {
     "name": "stdout",
     "output_type": "stream",
     "text": [
      "Stopped early.\n",
      "Finished after epoch 15, best epoch=0\n",
      "best va_xent 0.305\n",
      "best tr_err nan\n",
      "best va_err 0.110\n",
      "Validation loss: 0.6847286224365234\n",
      "Running experiment with seed=66, lr=0.1, l2pen_mag=0.01, n_epochs=200\n"
     ]
    },
    {
     "name": "stderr",
     "output_type": "stream",
     "text": [
      "  7%|▊          | 15/201 [00:20<04:16,  1.38s/it, tr_xent=0.000361, tr_err=0, va_xent=0.918, va_err=0.12, batch_done=7]\n"
     ]
    },
    {
     "name": "stdout",
     "output_type": "stream",
     "text": [
      "Stopped early.\n",
      "Finished after epoch 15, best epoch=0\n",
      "best va_xent 0.305\n",
      "best tr_err nan\n",
      "best va_err 0.110\n",
      "Validation loss: 0.9181401062011718\n",
      "Running experiment with seed=66, lr=0.01, l2pen_mag=0.0, n_epochs=200\n"
     ]
    },
    {
     "name": "stderr",
     "output_type": "stream",
     "text": [
      "  7%|▉           | 15/201 [00:19<04:05,  1.32s/it, tr_xent=0.000171, tr_err=0, va_xent=0.419, va_err=0.1, batch_done=7]\n"
     ]
    },
    {
     "name": "stdout",
     "output_type": "stream",
     "text": [
      "Stopped early.\n",
      "Finished after epoch 15, best epoch=0\n",
      "best va_xent 0.305\n",
      "best tr_err nan\n",
      "best va_err 0.110\n",
      "Validation loss: 0.4185989570617676\n",
      "Running experiment with seed=66, lr=0.01, l2pen_mag=0.1, n_epochs=200\n"
     ]
    },
    {
     "name": "stderr",
     "output_type": "stream",
     "text": [
      " 12%|█▍          | 25/201 [00:33<03:55,  1.34s/it, tr_xent=0.00348, tr_err=0, va_xent=0.345, va_err=0.11, batch_done=7]\n"
     ]
    },
    {
     "name": "stdout",
     "output_type": "stream",
     "text": [
      "Stopped early.\n",
      "Finished after epoch 25, best epoch=10\n",
      "best va_xent 0.304\n",
      "best tr_err 0.000\n",
      "best va_err 0.100\n",
      "Validation loss: 0.3446629047393799\n",
      "Running experiment with seed=66, lr=0.01, l2pen_mag=0.01, n_epochs=200\n"
     ]
    },
    {
     "name": "stderr",
     "output_type": "stream",
     "text": [
      "  7%|▋        | 15/201 [00:18<03:53,  1.26s/it, tr_xent=0.134, tr_err=0.0325, va_xent=0.821, va_err=0.14, batch_done=7]\n"
     ]
    },
    {
     "name": "stdout",
     "output_type": "stream",
     "text": [
      "Stopped early.\n",
      "Finished after epoch 15, best epoch=0\n",
      "best va_xent 0.304\n",
      "best tr_err nan\n",
      "best va_err 0.100\n",
      "Validation loss: 0.8213687705993653\n",
      "Running experiment with seed=66, lr=0.001, l2pen_mag=0.0, n_epochs=200\n"
     ]
    },
    {
     "name": "stderr",
     "output_type": "stream",
     "text": [
      "  7%|▉           | 15/201 [00:19<03:56,  1.27s/it, tr_xent=3.47e-5, tr_err=0, va_xent=0.399, va_err=0.09, batch_done=7]\n"
     ]
    },
    {
     "name": "stdout",
     "output_type": "stream",
     "text": [
      "Stopped early.\n",
      "Finished after epoch 15, best epoch=0\n",
      "best va_xent 0.304\n",
      "best tr_err nan\n",
      "best va_err 0.100\n",
      "Validation loss: 0.3992569160461426\n",
      "Running experiment with seed=66, lr=0.001, l2pen_mag=0.1, n_epochs=200\n"
     ]
    },
    {
     "name": "stderr",
     "output_type": "stream",
     "text": [
      " 12%|█▍          | 25/201 [00:31<03:39,  1.25s/it, tr_xent=0.000777, tr_err=0, va_xent=0.353, va_err=0.1, batch_done=7]\n"
     ]
    },
    {
     "name": "stdout",
     "output_type": "stream",
     "text": [
      "Stopped early.\n",
      "Finished after epoch 25, best epoch=10\n",
      "best va_xent 0.295\n",
      "best tr_err 0.000\n",
      "best va_err 0.100\n",
      "Validation loss: 0.3529176044464111\n",
      "Running experiment with seed=66, lr=0.001, l2pen_mag=0.01, n_epochs=200\n"
     ]
    },
    {
     "name": "stderr",
     "output_type": "stream",
     "text": [
      "  7%|▉            | 15/201 [00:18<03:51,  1.25s/it, tr_xent=8.42e-5, tr_err=0, va_xent=0.433, va_err=0.1, batch_done=7]\n"
     ]
    },
    {
     "name": "stdout",
     "output_type": "stream",
     "text": [
      "Stopped early.\n",
      "Finished after epoch 15, best epoch=0\n",
      "best va_xent 0.295\n",
      "best tr_err nan\n",
      "best va_err 0.100\n",
      "Validation loss: 0.4329599094390869\n"
     ]
    },
    {
     "data": {
      "image/png": "[encoded data removed]",
      "text/plain": [
       "<Figure size 1000x500 with 1 Axes>"
      ]
     },
     "metadata": {},
     "output_type": "display_data"
    }
   ],
   "source": [
    "gridsearch_params = {\n",
    "    'seed': [3,5,15,23,91,96,24,69,66],\n",
    "    'lr': [0.1,0.01,0.001], \n",
    "    'l2pen_mag': [0.0,0.1, 0.01],\n",
    "    'n_epochs': [200]\n",
    "}\n",
    "\n",
    "\n",
    "hyparam_combinations = list(itertools.product(\n",
    "    gridsearch_params['seed'],\n",
    "    gridsearch_params['lr'],\n",
    "    gridsearch_params['l2pen_mag'],\n",
    "    gridsearch_params['n_epochs']\n",
    "))\n",
    "\n",
    "\n",
    "best_model = None\n",
    "best_info = None\n",
    "best_val_loss = float('inf')\n",
    "\n",
    "\n",
    "for seed, lr, l2pen_mag, n_epochs in hyparam_combinations:\n",
    "    print(f\"Running experiment with seed={seed}, lr={lr}, l2pen_mag={l2pen_mag}, n_epochs={n_epochs}\")\n",
    "    \n",
    "    best_model_ft, best_info_ft = train.train_model(resnet10_in_ft, device, train_loader, val_loader,\n",
    "        n_epochs=n_epochs,\n",
    "        lr=lr,\n",
    "        l2pen_mag=l2pen_mag, \n",
    "        data_order_seed=seed,\n",
    "        )\n",
    "\n",
    "    # trained_model, train_info = train.train_model(\n",
    "    #     model,\n",
    "    #     device,\n",
    "    #     train_loader,\n",
    "    #     val_loader,\n",
    "    #     n_epochs=n_epochs,\n",
    "    #     lr=lr,\n",
    "    #     l2pen_mag=l2pen_mag,\n",
    "    #     data_order_seed=seed,\n",
    "    # )\n",
    "    \n",
    "\n",
    "    val_loss = best_info_ft['va']['xent'][-1]\n",
    "\n",
    "    print(f\"Validation loss: {val_loss}\")\n",
    "\n",
    "\n",
    "    if val_loss < best_val_loss:\n",
    "        best_val_loss = val_loss\n",
    "        best_model = best_info_ft\n",
    "        best_info = best_info_ft\n",
    "        print(\"NEW BEST MODEL\")\n",
    "\n",
    "\n",
    "\n",
    "plt.figure(figsize=(10, 5))\n",
    "plt.plot(best_info_ft['epochs'], best_info_ft['tr']['loss'], '--', color='b', label='tr loss')\n",
    "plt.plot(best_info_ft['epochs'], best_info_ft['tr']['err'], '-', color='b', label='tr err')\n",
    "\n",
    "plt.plot(best_info_ft['epochs'], best_info_ft['va']['xent'], '--', color='r', label='va xent')\n",
    "plt.plot(best_info_ft['epochs'], best_info_ft['va']['err'], '-', color='r', label='va err')\n",
    "plt.xlabel('Epochs')\n",
    "plt.ylabel('Loss / Error')\n",
    "plt.title('Training and Validation Loss/Errors')\n",
    "plt.legend()\n",
    "plt.grid()\n",
    "plt.show()"
   ]
  },
  {
   "cell_type": "markdown",
   "metadata": {},
   "source": [
    "## Figure 2a: Trace plots for LP then FT\n",
    "\n",
    "We'll be looking for:\n",
    "\n",
    "* Clear continuity in val set perf (the FT phase started at val set err rate/xent of the best LP checkpoint)\n",
    "* Some kind of improvement in the FT phase, at least on train"
   ]
  },
  {
   "cell_type": "code",
   "execution_count": 50,
   "metadata": {},
   "outputs": [
    {
     "data": {
      "image/png": "[encoded data removed]",
      "text/plain": [
       "<Figure size 900x400 with 2 Axes>"
      ]
     },
     "metadata": {},
     "output_type": "display_data"
    }
   ],
   "source": [
    "_, axgrid = plt.subplots(nrows=1, ncols=2, figsize=(9,4), sharey=True)\n",
    "\n",
    "LPbest = task_two_results[('ResNet10', 'ImageNet1k', 'phase1')]\n",
    "FTbest = task_two_results[('ResNet10', 'ImageNet1k', 'phase2')]\n",
    "\n",
    "\n",
    "eps = [e for e in LPbest['epochs'] if e <= LPbest['best_epoch']]\n",
    "axgrid[0].plot(eps, LPbest['va']['xent'][:len(eps)], '--', color='r', label='val xent')\n",
    "axgrid[0].plot(eps, LPbest['tr']['loss'][:len(eps)], '--', color='b')\n",
    "axgrid[0].plot(eps, LPbest['va']['err'][:len(eps)], color='r', label='val')\n",
    "axgrid[0].plot(eps, LPbest['tr']['err'][:len(eps)], '-', color='b')\n",
    "axgrid[0].plot(LPbest['best_epoch'], LPbest['best_va_loss'], '*', color='r', markersize=12);\n",
    "axgrid[0].set_title(\"Phase 1: LP\");\n",
    "axgrid[0].set_xlabel(\"LP epochs\");\n",
    "axgrid[0].set_ylabel(\"loss\");\n",
    "\n",
    "FTeps = FTbest['epochs']\n",
    "axgrid[1].plot(FTeps, FTbest['va']['xent'], '--', color='r', label='val xent')\n",
    "axgrid[1].plot(FTeps, FTbest['tr']['loss'], '--', color='b', label='tr loss')\n",
    "axgrid[1].plot(FTeps, FTbest['va']['err'], '-', color='r', label='val err')\n",
    "axgrid[1].plot(FTeps, FTbest['tr']['err'], '-', color='b', label='tr err')\n",
    "axgrid[1].plot(FTbest['best_epoch'], FTbest['best_va_loss'], '*', color='r', markersize=12);\n",
    "axgrid[1].set_title(\"Phase 2: LP-then-FT\");\n",
    "axgrid[1].set_ylim([-0.02, 1.]);\n",
    "axgrid[1].set_xlabel('LP-then-FT epochs');\n",
    "axgrid[1].legend(loc='upper right');\n"
   ]
  },
  {
   "cell_type": "markdown",
   "metadata": {},
   "source": [
    "## Problem 2b: Report test-set acc for both the phase1 and phase 2\n",
    "\n",
    "These numbers will be presented in your report."
   ]
  },
  {
   "cell_type": "code",
   "execution_count": 42,
   "metadata": {},
   "outputs": [],
   "source": [
    "# TODO compute test acc after the LP phase\n",
    "tar_acc_2 = {}\n",
    "tar_acc_2[('ResNet10', 'ImageNet1k', 'phase1')] = eval_acc(resnet10_in_lp, device, test_loader)"
   ]
  },
  {
   "cell_type": "code",
   "execution_count": 43,
   "metadata": {},
   "outputs": [],
   "source": [
    "# TODO compute test acc after the FT-3 phase\n",
    "tar_acc_2[('ResNet10', 'ImageNet1k', 'phase2')] = eval_acc(resnet10_in_ft, device, test_loader)"
   ]
  },
  {
   "cell_type": "code",
   "execution_count": 44,
   "metadata": {},
   "outputs": [
    {
     "name": "stdout",
     "output_type": "stream",
     "text": [
      "{('ResNet10', 'ImageNet1k', 'phase1'): 0.8071428571428572, ('ResNet10', 'ImageNet1k', 'phase2'): 0.8214285714285714}\n"
     ]
    }
   ],
   "source": [
    "print(tar_acc_2)"
   ]
  },
  {
   "cell_type": "code",
   "execution_count": null,
   "metadata": {},
   "outputs": [],
   "source": []
  },
  {
   "cell_type": "code",
   "execution_count": null,
   "metadata": {},
   "outputs": [],
   "source": []
  }
 ],
 "metadata": {
  "kernelspec": {
   "display_name": "Python 3 (ipykernel)",
   "language": "python",
   "name": "python3"
  },
  "language_info": {
   "codemirror_mode": {
    "name": "ipython",
    "version": 3
   },
   "file_extension": ".py",
   "mimetype": "text/x-python",
   "name": "python",
   "nbconvert_exporter": "python",
   "pygments_lexer": "ipython3",
   "version": "3.10.13"
  }
 },
 "nbformat": 4,
 "nbformat_minor": 4
}
